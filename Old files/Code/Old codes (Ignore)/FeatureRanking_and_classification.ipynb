{
 "cells": [
  {
   "cell_type": "code",
   "execution_count": 1,
   "metadata": {
    "id": "1LXZruj2Mbqx"
   },
   "outputs": [],
   "source": [
    "import numpy as np\n",
    "import matplotlib.pyplot as plt\n",
    "import pandas as pd\n",
    "import seaborn as sns"
   ]
  },
  {
   "cell_type": "code",
   "execution_count": 2,
   "metadata": {
    "id": "chw1ThQFMjQL"
   },
   "outputs": [],
   "source": [
    "all_hints = pd.read_csv(\"../Data/HINTS_erdos.csv\")\n",
    "# all_hints =  all_hints.drop(['APP_REGION', 'PERSONID', 'HHID'], axis=1, inplace=False)"
   ]
  },
  {
   "cell_type": "code",
   "execution_count": 3,
   "metadata": {
    "colab": {
     "base_uri": "https://localhost:8080/"
    },
    "id": "obz3y2QJNECN",
    "outputId": "53ceee88-cf61-4ffb-feb9-b131887e9a37"
   },
   "outputs": [
    {
     "name": "stdout",
     "output_type": "stream",
     "text": [
      "(3630, 357)\n",
      "HHID                3630\n",
      "PERSONID            3630\n",
      "Stratum             3630\n",
      "APP_REGION           259\n",
      "HIGHSPANLI          3630\n",
      "                    ... \n",
      "AgeDX               3630\n",
      "TimeSinceDX         3630\n",
      "smokeStat           3630\n",
      "PHQ4                3630\n",
      "IncomeRanges_IMP    3630\n",
      "Length: 357, dtype: int64\n"
     ]
    }
   ],
   "source": [
    "print(all_hints.shape)\n",
    "print(all_hints.count())"
   ]
  },
  {
   "cell_type": "markdown",
   "metadata": {},
   "source": [
    "## **Data subset on \"Cancer Attention Info + Demographic info\"**\n"
   ]
  },
  {
   "cell_type": "code",
   "execution_count": 4,
   "metadata": {},
   "outputs": [
    {
     "name": "stdout",
     "output_type": "stream",
     "text": [
      "(3630, 15)\n"
     ]
    }
   ],
   "source": [
    "base_list = ['Age','BMI','CancerAttention_HealthNews','CancerAttention_Internet','CancerAttention_LocalTV','CancerAttention_NatTV','CancerAttention_OnlineNews','CancerAttention_PrintNews','CENSDIV','EducA','EverHadCancer','GenderC','HHInc','InternetCancerInfoSelf','InternetCancerInfoSite']\n",
    "hints_base = pd.DataFrame(all_hints, columns = base_list)\n",
    "print(hints_base.shape)"
   ]
  },
  {
   "cell_type": "code",
   "execution_count": 5,
   "metadata": {
    "id": "Y3--z9PXNYYz"
   },
   "outputs": [],
   "source": [
    "#set all the features with numerical values to integers  and character as categorical\n",
    "\n",
    "# Convert numerical features to integers\n",
    "numerical_features = hints_base.select_dtypes(include=['int64', 'float64']).columns\n",
    "hints_base[numerical_features] = hints_base[numerical_features].astype('int32')\n",
    "\n",
    "# Convert character features to categorical\n",
    "character_features = hints_base.select_dtypes(include=['object']).columns\n",
    "hints_base[character_features] = hints_base[character_features].astype('category')\n"
   ]
  },
  {
   "cell_type": "code",
   "execution_count": 6,
   "metadata": {},
   "outputs": [
    {
     "data": {
      "text/html": [
       "<div>\n",
       "<style scoped>\n",
       "    .dataframe tbody tr th:only-of-type {\n",
       "        vertical-align: middle;\n",
       "    }\n",
       "\n",
       "    .dataframe tbody tr th {\n",
       "        vertical-align: top;\n",
       "    }\n",
       "\n",
       "    .dataframe thead th {\n",
       "        text-align: right;\n",
       "    }\n",
       "</style>\n",
       "<table border=\"1\" class=\"dataframe\">\n",
       "  <thead>\n",
       "    <tr style=\"text-align: right;\">\n",
       "      <th></th>\n",
       "      <th>Age</th>\n",
       "      <th>BMI</th>\n",
       "      <th>CancerAttention_HealthNews</th>\n",
       "      <th>CancerAttention_Internet</th>\n",
       "      <th>CancerAttention_LocalTV</th>\n",
       "      <th>CancerAttention_NatTV</th>\n",
       "      <th>CancerAttention_OnlineNews</th>\n",
       "      <th>CancerAttention_PrintNews</th>\n",
       "      <th>CENSDIV</th>\n",
       "      <th>EducA</th>\n",
       "      <th>EverHadCancer</th>\n",
       "      <th>GenderC</th>\n",
       "      <th>HHInc</th>\n",
       "      <th>InternetCancerInfoSelf</th>\n",
       "      <th>InternetCancerInfoSite</th>\n",
       "    </tr>\n",
       "  </thead>\n",
       "  <tbody>\n",
       "    <tr>\n",
       "      <th>0</th>\n",
       "      <td>29.0</td>\n",
       "      <td>29.0</td>\n",
       "      <td>1.0</td>\n",
       "      <td>1.0</td>\n",
       "      <td>3.0</td>\n",
       "      <td>3.0</td>\n",
       "      <td>3.0</td>\n",
       "      <td>3.0</td>\n",
       "      <td>5</td>\n",
       "      <td>3.0</td>\n",
       "      <td>2.0</td>\n",
       "      <td>2.0</td>\n",
       "      <td>5.0</td>\n",
       "      <td>2.0</td>\n",
       "      <td>1.0</td>\n",
       "    </tr>\n",
       "    <tr>\n",
       "      <th>1</th>\n",
       "      <td>69.0</td>\n",
       "      <td>27.0</td>\n",
       "      <td>1.0</td>\n",
       "      <td>2.0</td>\n",
       "      <td>1.0</td>\n",
       "      <td>1.0</td>\n",
       "      <td>3.0</td>\n",
       "      <td>3.0</td>\n",
       "      <td>2</td>\n",
       "      <td>2.0</td>\n",
       "      <td>2.0</td>\n",
       "      <td>2.0</td>\n",
       "      <td>NaN</td>\n",
       "      <td>2.0</td>\n",
       "      <td>2.0</td>\n",
       "    </tr>\n",
       "    <tr>\n",
       "      <th>2</th>\n",
       "      <td>32.0</td>\n",
       "      <td>20.0</td>\n",
       "      <td>2.0</td>\n",
       "      <td>2.0</td>\n",
       "      <td>2.0</td>\n",
       "      <td>2.0</td>\n",
       "      <td>2.0</td>\n",
       "      <td>2.0</td>\n",
       "      <td>3</td>\n",
       "      <td>4.0</td>\n",
       "      <td>2.0</td>\n",
       "      <td>2.0</td>\n",
       "      <td>5.0</td>\n",
       "      <td>1.0</td>\n",
       "      <td>2.0</td>\n",
       "    </tr>\n",
       "    <tr>\n",
       "      <th>3</th>\n",
       "      <td>41.0</td>\n",
       "      <td>22.0</td>\n",
       "      <td>1.0</td>\n",
       "      <td>2.0</td>\n",
       "      <td>3.0</td>\n",
       "      <td>2.0</td>\n",
       "      <td>2.0</td>\n",
       "      <td>2.0</td>\n",
       "      <td>5</td>\n",
       "      <td>4.0</td>\n",
       "      <td>2.0</td>\n",
       "      <td>2.0</td>\n",
       "      <td>5.0</td>\n",
       "      <td>2.0</td>\n",
       "      <td>2.0</td>\n",
       "    </tr>\n",
       "    <tr>\n",
       "      <th>4</th>\n",
       "      <td>46.0</td>\n",
       "      <td>28.0</td>\n",
       "      <td>2.0</td>\n",
       "      <td>2.0</td>\n",
       "      <td>2.0</td>\n",
       "      <td>2.0</td>\n",
       "      <td>2.0</td>\n",
       "      <td>2.0</td>\n",
       "      <td>5</td>\n",
       "      <td>NaN</td>\n",
       "      <td>2.0</td>\n",
       "      <td>2.0</td>\n",
       "      <td>3.0</td>\n",
       "      <td>2.0</td>\n",
       "      <td>2.0</td>\n",
       "    </tr>\n",
       "  </tbody>\n",
       "</table>\n",
       "</div>"
      ],
      "text/plain": [
       "    Age   BMI  CancerAttention_HealthNews  CancerAttention_Internet  \\\n",
       "0  29.0  29.0                         1.0                       1.0   \n",
       "1  69.0  27.0                         1.0                       2.0   \n",
       "2  32.0  20.0                         2.0                       2.0   \n",
       "3  41.0  22.0                         1.0                       2.0   \n",
       "4  46.0  28.0                         2.0                       2.0   \n",
       "\n",
       "   CancerAttention_LocalTV  CancerAttention_NatTV  CancerAttention_OnlineNews  \\\n",
       "0                      3.0                    3.0                         3.0   \n",
       "1                      1.0                    1.0                         3.0   \n",
       "2                      2.0                    2.0                         2.0   \n",
       "3                      3.0                    2.0                         2.0   \n",
       "4                      2.0                    2.0                         2.0   \n",
       "\n",
       "   CancerAttention_PrintNews  CENSDIV  EducA  EverHadCancer  GenderC  HHInc  \\\n",
       "0                        3.0        5    3.0            2.0      2.0    5.0   \n",
       "1                        3.0        2    2.0            2.0      2.0    NaN   \n",
       "2                        2.0        3    4.0            2.0      2.0    5.0   \n",
       "3                        2.0        5    4.0            2.0      2.0    5.0   \n",
       "4                        2.0        5    NaN            2.0      2.0    3.0   \n",
       "\n",
       "   InternetCancerInfoSelf  InternetCancerInfoSite  \n",
       "0                     2.0                     1.0  \n",
       "1                     2.0                     2.0  \n",
       "2                     1.0                     2.0  \n",
       "3                     2.0                     2.0  \n",
       "4                     2.0                     2.0  "
      ]
     },
     "execution_count": 6,
     "metadata": {},
     "output_type": "execute_result"
    }
   ],
   "source": [
    "#turn all values less than 0 to NA in integer type features\n",
    "hints_base[numerical_features] = hints_base[numerical_features].applymap(lambda x: np.nan if x < 0 else x)\n",
    "hints_base.head()"
   ]
  },
  {
   "cell_type": "markdown",
   "metadata": {
    "id": "-I4n4SQDPXdQ"
   },
   "source": [
    "## **Data subset on \"Medical Conditions\"**\n"
   ]
  },
  {
   "cell_type": "code",
   "execution_count": 7,
   "metadata": {
    "id": "PRwIEGQ3OP7P"
   },
   "outputs": [],
   "source": [
    "YourOverallHealth = ([\"GeneralHealth\", \"OwnAbilityTakeCareHealth\", \"MedConditions_Diabetes\", \"MedConditions_HighBP\", \"MedConditions_HeartCondition\", \"MedConditions_LungDisease\", \"MedConditions_Arthritis\", \"MedConditions_Depression\", \"SleepWorkdayHr\", \"SleepWorkdayMn\", \"SleepWeekendHr\", \"SleepWeekendMn\", \"Height_Feet\", \"Height_Inches\", \"Weight\", \"WeightIntention\", \"WeightOpinion\", \"LittleInterest\", \"Hopeless\", \"Nervous\", \"Worrying\", \"EmotionalSupport\", \"TalkHealthFriends\", \"HelpDailyChores\"])\n",
    "\n",
    "MedicalConditions = ([\"GeneralHealth\", \"OwnAbilityTakeCareHealth\", \"MedConditions_Diabetes\", \"MedConditions_HighBP\", \"MedConditions_HeartCondition\", \"MedConditions_LungDisease\", \"MedConditions_Arthritis\", \"MedConditions_Depression\"])#, \"LittleInterest\", \"Hopeless\", \"Nervous\", \"Worrying\", \"EmotionalSupport\", \"TalkHealthFriends\", \"HelpDailyChores\"])\n"
   ]
  },
  {
   "cell_type": "code",
   "execution_count": 8,
   "metadata": {
    "id": "YewOZmOpP8oH"
   },
   "outputs": [],
   "source": [
    "hints_health = all_hints[MedicalConditions]"
   ]
  },
  {
   "cell_type": "code",
   "execution_count": 9,
   "metadata": {
    "colab": {
     "base_uri": "https://localhost:8080/"
    },
    "id": "q-VoAWKnXtVP",
    "outputId": "4a833b6c-b81e-4fb6-c409-8637b137633e"
   },
   "outputs": [
    {
     "name": "stderr",
     "output_type": "stream",
     "text": [
      "/tmp/ipykernel_10189/4010810453.py:5: SettingWithCopyWarning: \n",
      "A value is trying to be set on a copy of a slice from a DataFrame.\n",
      "Try using .loc[row_indexer,col_indexer] = value instead\n",
      "\n",
      "See the caveats in the documentation: https://pandas.pydata.org/pandas-docs/stable/user_guide/indexing.html#returning-a-view-versus-a-copy\n",
      "  hints_health[num_features] = hints_health[num_features].astype('int32')\n"
     ]
    }
   ],
   "source": [
    "#set all the features with numerical values to integers  and character as categorical\n",
    "\n",
    "# # Convert numerical features to integers\n",
    "num_features = hints_health.select_dtypes(include=['int64', 'float64']).columns\n",
    "hints_health[num_features] = hints_health[num_features].astype('int32')\n",
    "\n",
    "# Convert character features to categorical\n",
    "char_features = hints_health.select_dtypes(include=['object']).columns\n",
    "hints_health[char_features] = hints_health[char_features].astype('category')\n"
   ]
  },
  {
   "cell_type": "markdown",
   "metadata": {
    "id": "UZJ2afF4RqZy"
   },
   "source": [
    "### **Visualising NAs**"
   ]
  },
  {
   "cell_type": "code",
   "execution_count": 10,
   "metadata": {
    "colab": {
     "base_uri": "https://localhost:8080/",
     "height": 638
    },
    "id": "DJgVRcJlRHid",
    "outputId": "76ea0047-1e48-485b-d9bf-20631ada6f01"
   },
   "outputs": [
    {
     "data": {
      "image/png": "[encoded data removed]",
      "text/plain": [
       "<Figure size 640x480 with 1 Axes>"
      ]
     },
     "metadata": {},
     "output_type": "display_data"
    },
    {
     "data": {
      "image/png": "[encoded data removed]",
      "text/plain": [
       "<Figure size 640x480 with 1 Axes>"
      ]
     },
     "metadata": {},
     "output_type": "display_data"
    }
   ],
   "source": [
    "sns.heatmap(hints_base.isnull(), cbar=False)\n",
    "plt.show()\n",
    "\n",
    "sns.heatmap(hints_health.isnull(), cbar=False)\n",
    "plt.show()"
   ]
  },
  {
   "cell_type": "markdown",
   "metadata": {
    "id": "Kx9aDITnR7wO"
   },
   "source": [
    "**Removing the colums with high number of missing values**"
   ]
  },
  {
   "cell_type": "code",
   "execution_count": 11,
   "metadata": {},
   "outputs": [
    {
     "name": "stdout",
     "output_type": "stream",
     "text": [
      "Age                           119\n",
      "BMI                           178\n",
      "CancerAttention_HealthNews    195\n",
      "CancerAttention_Internet      272\n",
      "CancerAttention_LocalTV       210\n",
      "CancerAttention_NatTV         230\n",
      "CancerAttention_OnlineNews    273\n",
      "CancerAttention_PrintNews     250\n",
      "CENSDIV                         0\n",
      "EducA                          89\n",
      "EverHadCancer                  31\n",
      "GenderC                        68\n",
      "HHInc                         480\n",
      "InternetCancerInfoSelf        929\n",
      "InternetCancerInfoSite        950\n",
      "dtype: int64\n",
      "-----------------------------\n",
      "GeneralHealth                   0\n",
      "OwnAbilityTakeCareHealth        0\n",
      "MedConditions_Diabetes          0\n",
      "MedConditions_HighBP            0\n",
      "MedConditions_HeartCondition    0\n",
      "MedConditions_LungDisease       0\n",
      "MedConditions_Arthritis         0\n",
      "MedConditions_Depression        0\n",
      "dtype: int64\n"
     ]
    }
   ],
   "source": [
    "print(hints_base.isna().sum())\n",
    "print(\"-----------------------------\")\n",
    "print(hints_health.isna().sum())"
   ]
  },
  {
   "cell_type": "code",
   "execution_count": 12,
   "metadata": {
    "colab": {
     "base_uri": "https://localhost:8080/"
    },
    "id": "PGfQXM-gQNc7",
    "outputId": "49e6a441-c326-4990-8fec-d68a4ee3d133"
   },
   "outputs": [
    {
     "name": "stdout",
     "output_type": "stream",
     "text": [
      "929\n",
      "950\n"
     ]
    }
   ],
   "source": [
    "print(hints_base.InternetCancerInfoSelf.isna().sum())\n",
    "print(hints_base.InternetCancerInfoSite.isna().sum())\n",
    "# print(hints_base.HHInc.isna().sum())"
   ]
  },
  {
   "cell_type": "code",
   "execution_count": 13,
   "metadata": {
    "id": "TAtseAwQQSI1"
   },
   "outputs": [],
   "source": [
    "hints_base = hints_base.drop(['InternetCancerInfoSelf', 'InternetCancerInfoSite'], axis=1, inplace=False)\n",
    "#investigat whether to drop HHInc"
   ]
  },
  {
   "cell_type": "code",
   "execution_count": 14,
   "metadata": {
    "colab": {
     "base_uri": "https://localhost:8080/"
    },
    "id": "2WhhweUnS7rQ",
    "outputId": "413041e5-8a73-410f-81be-331d057f91b4"
   },
   "outputs": [
    {
     "name": "stdout",
     "output_type": "stream",
     "text": [
      "(3630, 13)\n",
      "(3630, 8)\n"
     ]
    }
   ],
   "source": [
    "print(hints_base.shape)\n",
    "print(hints_health.shape)"
   ]
  },
  {
   "cell_type": "code",
   "execution_count": 15,
   "metadata": {
    "colab": {
     "base_uri": "https://localhost:8080/",
     "height": 638
    },
    "id": "aqr1Bd77TCmP",
    "outputId": "5e171dda-9a87-439a-d0a4-678c4af58bd9"
   },
   "outputs": [
    {
     "data": {
      "image/png": "[encoded data removed]",
      "text/plain": [
       "<Figure size 640x480 with 1 Axes>"
      ]
     },
     "metadata": {},
     "output_type": "display_data"
    }
   ],
   "source": [
    "sns.heatmap(hints_base.isnull(), cbar=False)\n",
    "plt.show()"
   ]
  },
  {
   "cell_type": "code",
   "execution_count": 16,
   "metadata": {
    "id": "ZcW41Y_kTLKp"
   },
   "outputs": [],
   "source": [
    "hints_final = pd.concat([hints_base, hints_health], axis=1)\n"
   ]
  },
  {
   "cell_type": "code",
   "execution_count": 17,
   "metadata": {
    "colab": {
     "base_uri": "https://localhost:8080/"
    },
    "id": "nN0XF0grTVR6",
    "outputId": "69f57a47-5326-461d-ada9-05ee2f4b55a0"
   },
   "outputs": [
    {
     "name": "stdout",
     "output_type": "stream",
     "text": [
      "(3630, 21)\n"
     ]
    },
    {
     "data": {
      "text/html": [
       "<div>\n",
       "<style scoped>\n",
       "    .dataframe tbody tr th:only-of-type {\n",
       "        vertical-align: middle;\n",
       "    }\n",
       "\n",
       "    .dataframe tbody tr th {\n",
       "        vertical-align: top;\n",
       "    }\n",
       "\n",
       "    .dataframe thead th {\n",
       "        text-align: right;\n",
       "    }\n",
       "</style>\n",
       "<table border=\"1\" class=\"dataframe\">\n",
       "  <thead>\n",
       "    <tr style=\"text-align: right;\">\n",
       "      <th></th>\n",
       "      <th>Age</th>\n",
       "      <th>BMI</th>\n",
       "      <th>CancerAttention_HealthNews</th>\n",
       "      <th>CancerAttention_Internet</th>\n",
       "      <th>CancerAttention_LocalTV</th>\n",
       "      <th>CancerAttention_NatTV</th>\n",
       "      <th>CancerAttention_OnlineNews</th>\n",
       "      <th>CancerAttention_PrintNews</th>\n",
       "      <th>CENSDIV</th>\n",
       "      <th>EducA</th>\n",
       "      <th>...</th>\n",
       "      <th>GenderC</th>\n",
       "      <th>HHInc</th>\n",
       "      <th>GeneralHealth</th>\n",
       "      <th>OwnAbilityTakeCareHealth</th>\n",
       "      <th>MedConditions_Diabetes</th>\n",
       "      <th>MedConditions_HighBP</th>\n",
       "      <th>MedConditions_HeartCondition</th>\n",
       "      <th>MedConditions_LungDisease</th>\n",
       "      <th>MedConditions_Arthritis</th>\n",
       "      <th>MedConditions_Depression</th>\n",
       "    </tr>\n",
       "  </thead>\n",
       "  <tbody>\n",
       "    <tr>\n",
       "      <th>0</th>\n",
       "      <td>29.0</td>\n",
       "      <td>29.0</td>\n",
       "      <td>1.0</td>\n",
       "      <td>1.0</td>\n",
       "      <td>3.0</td>\n",
       "      <td>3.0</td>\n",
       "      <td>3.0</td>\n",
       "      <td>3.0</td>\n",
       "      <td>5</td>\n",
       "      <td>3.0</td>\n",
       "      <td>...</td>\n",
       "      <td>2.0</td>\n",
       "      <td>5.0</td>\n",
       "      <td>2</td>\n",
       "      <td>1</td>\n",
       "      <td>2</td>\n",
       "      <td>2</td>\n",
       "      <td>2</td>\n",
       "      <td>2</td>\n",
       "      <td>2</td>\n",
       "      <td>1</td>\n",
       "    </tr>\n",
       "    <tr>\n",
       "      <th>1</th>\n",
       "      <td>69.0</td>\n",
       "      <td>27.0</td>\n",
       "      <td>1.0</td>\n",
       "      <td>2.0</td>\n",
       "      <td>1.0</td>\n",
       "      <td>1.0</td>\n",
       "      <td>3.0</td>\n",
       "      <td>3.0</td>\n",
       "      <td>2</td>\n",
       "      <td>2.0</td>\n",
       "      <td>...</td>\n",
       "      <td>2.0</td>\n",
       "      <td>NaN</td>\n",
       "      <td>2</td>\n",
       "      <td>1</td>\n",
       "      <td>2</td>\n",
       "      <td>1</td>\n",
       "      <td>2</td>\n",
       "      <td>2</td>\n",
       "      <td>1</td>\n",
       "      <td>1</td>\n",
       "    </tr>\n",
       "    <tr>\n",
       "      <th>2</th>\n",
       "      <td>32.0</td>\n",
       "      <td>20.0</td>\n",
       "      <td>2.0</td>\n",
       "      <td>2.0</td>\n",
       "      <td>2.0</td>\n",
       "      <td>2.0</td>\n",
       "      <td>2.0</td>\n",
       "      <td>2.0</td>\n",
       "      <td>3</td>\n",
       "      <td>4.0</td>\n",
       "      <td>...</td>\n",
       "      <td>2.0</td>\n",
       "      <td>5.0</td>\n",
       "      <td>2</td>\n",
       "      <td>2</td>\n",
       "      <td>2</td>\n",
       "      <td>2</td>\n",
       "      <td>2</td>\n",
       "      <td>1</td>\n",
       "      <td>2</td>\n",
       "      <td>2</td>\n",
       "    </tr>\n",
       "    <tr>\n",
       "      <th>3</th>\n",
       "      <td>41.0</td>\n",
       "      <td>22.0</td>\n",
       "      <td>1.0</td>\n",
       "      <td>2.0</td>\n",
       "      <td>3.0</td>\n",
       "      <td>2.0</td>\n",
       "      <td>2.0</td>\n",
       "      <td>2.0</td>\n",
       "      <td>5</td>\n",
       "      <td>4.0</td>\n",
       "      <td>...</td>\n",
       "      <td>2.0</td>\n",
       "      <td>5.0</td>\n",
       "      <td>2</td>\n",
       "      <td>2</td>\n",
       "      <td>2</td>\n",
       "      <td>2</td>\n",
       "      <td>2</td>\n",
       "      <td>2</td>\n",
       "      <td>2</td>\n",
       "      <td>2</td>\n",
       "    </tr>\n",
       "    <tr>\n",
       "      <th>4</th>\n",
       "      <td>46.0</td>\n",
       "      <td>28.0</td>\n",
       "      <td>2.0</td>\n",
       "      <td>2.0</td>\n",
       "      <td>2.0</td>\n",
       "      <td>2.0</td>\n",
       "      <td>2.0</td>\n",
       "      <td>2.0</td>\n",
       "      <td>5</td>\n",
       "      <td>NaN</td>\n",
       "      <td>...</td>\n",
       "      <td>2.0</td>\n",
       "      <td>3.0</td>\n",
       "      <td>3</td>\n",
       "      <td>2</td>\n",
       "      <td>2</td>\n",
       "      <td>1</td>\n",
       "      <td>2</td>\n",
       "      <td>2</td>\n",
       "      <td>2</td>\n",
       "      <td>2</td>\n",
       "    </tr>\n",
       "  </tbody>\n",
       "</table>\n",
       "<p>5 rows × 21 columns</p>\n",
       "</div>"
      ],
      "text/plain": [
       "    Age   BMI  CancerAttention_HealthNews  CancerAttention_Internet  \\\n",
       "0  29.0  29.0                         1.0                       1.0   \n",
       "1  69.0  27.0                         1.0                       2.0   \n",
       "2  32.0  20.0                         2.0                       2.0   \n",
       "3  41.0  22.0                         1.0                       2.0   \n",
       "4  46.0  28.0                         2.0                       2.0   \n",
       "\n",
       "   CancerAttention_LocalTV  CancerAttention_NatTV  CancerAttention_OnlineNews  \\\n",
       "0                      3.0                    3.0                         3.0   \n",
       "1                      1.0                    1.0                         3.0   \n",
       "2                      2.0                    2.0                         2.0   \n",
       "3                      3.0                    2.0                         2.0   \n",
       "4                      2.0                    2.0                         2.0   \n",
       "\n",
       "   CancerAttention_PrintNews  CENSDIV  EducA  ...  GenderC  HHInc  \\\n",
       "0                        3.0        5    3.0  ...      2.0    5.0   \n",
       "1                        3.0        2    2.0  ...      2.0    NaN   \n",
       "2                        2.0        3    4.0  ...      2.0    5.0   \n",
       "3                        2.0        5    4.0  ...      2.0    5.0   \n",
       "4                        2.0        5    NaN  ...      2.0    3.0   \n",
       "\n",
       "   GeneralHealth  OwnAbilityTakeCareHealth  MedConditions_Diabetes  \\\n",
       "0              2                         1                       2   \n",
       "1              2                         1                       2   \n",
       "2              2                         2                       2   \n",
       "3              2                         2                       2   \n",
       "4              3                         2                       2   \n",
       "\n",
       "   MedConditions_HighBP  MedConditions_HeartCondition  \\\n",
       "0                     2                             2   \n",
       "1                     1                             2   \n",
       "2                     2                             2   \n",
       "3                     2                             2   \n",
       "4                     1                             2   \n",
       "\n",
       "   MedConditions_LungDisease  MedConditions_Arthritis  \\\n",
       "0                          2                        2   \n",
       "1                          2                        1   \n",
       "2                          1                        2   \n",
       "3                          2                        2   \n",
       "4                          2                        2   \n",
       "\n",
       "   MedConditions_Depression  \n",
       "0                         1  \n",
       "1                         1  \n",
       "2                         2  \n",
       "3                         2  \n",
       "4                         2  \n",
       "\n",
       "[5 rows x 21 columns]"
      ]
     },
     "execution_count": 17,
     "metadata": {},
     "output_type": "execute_result"
    }
   ],
   "source": [
    "print(hints_final.shape)\n",
    "hints_final.head()"
   ]
  },
  {
   "cell_type": "code",
   "execution_count": 18,
   "metadata": {},
   "outputs": [
    {
     "name": "stdout",
     "output_type": "stream",
     "text": [
      "Columns with missing values: \n",
      " ['Age', 'BMI', 'CancerAttention_HealthNews', 'CancerAttention_Internet', 'CancerAttention_LocalTV', 'CancerAttention_NatTV', 'CancerAttention_OnlineNews', 'CancerAttention_PrintNews', 'EducA', 'EverHadCancer', 'GenderC', 'HHInc']\n"
     ]
    }
   ],
   "source": [
    "def missingValues(missingvalues):\n",
    "    if (missing_values > 0).any():\n",
    "        columns_with_missing_values = missing_values[missing_values > 0].index.tolist()\n",
    "        print(\"Columns with missing values: \\n\", columns_with_missing_values)\n",
    "    else:\n",
    "        print(\"No columns have missing values.\")\n",
    "    return\n",
    "\n",
    "missing_values = hints_final.isna().sum()\n",
    "missingValues(missing_values)\n"
   ]
  },
  {
   "cell_type": "code",
   "execution_count": 19,
   "metadata": {},
   "outputs": [
    {
     "name": "stdout",
     "output_type": "stream",
     "text": [
      "(2678, 21)\n",
      "No columns have missing values.\n"
     ]
    }
   ],
   "source": [
    "hints_final = hints_final.dropna()\n",
    "print(hints_final.shape)\n",
    "\n",
    "missing_values = hints_final.isna().sum()\n",
    "missingValues(missing_values)\n"
   ]
  },
  {
   "cell_type": "code",
   "execution_count": 20,
   "metadata": {},
   "outputs": [],
   "source": [
    "hints_final.to_csv(\"final_hints_dataset.csv\")"
   ]
  },
  {
   "cell_type": "markdown",
   "metadata": {},
   "source": [
    "# Feature Ranking Process"
   ]
  },
  {
   "cell_type": "code",
   "execution_count": 21,
   "metadata": {},
   "outputs": [],
   "source": [
    "from sklearn.feature_selection import RFE\n",
    "from sklearn.svm import LinearSVC\n",
    "from sklearn.tree import DecisionTreeClassifier\n",
    "from sklearn.ensemble import RandomForestClassifier\n",
    "from sklearn.pipeline import make_pipeline\n",
    "from sklearn.preprocessing import StandardScaler\n",
    "from sklearn.linear_model import LogisticRegression\n",
    "\n",
    "from sklearn.tree import plot_tree\n"
   ]
  },
  {
   "cell_type": "code",
   "execution_count": 22,
   "metadata": {},
   "outputs": [],
   "source": [
    "#newFeatures = ([\"UseInternet\", \"Internet_DialUp\", \"Internet_BroadBnd\", \"Internet_Cell\", \"Internet_WiFi\", \"Internet_Other\", \"InternetCancerInfoSelf\", \"InternetCancerInfoSite\"])\n",
    "#hints_UIFI_New = hints_UIFI[newFeatures]\n",
    "#hints_UIFI_New\n"
   ]
  },
  {
   "cell_type": "code",
   "execution_count": 23,
   "metadata": {},
   "outputs": [],
   "source": [
    "X,y = hints_final.drop(\"EverHadCancer\", axis=1), hints_final.EverHadCancer"
   ]
  },
  {
   "cell_type": "code",
   "execution_count": 24,
   "metadata": {},
   "outputs": [
    {
     "name": "stdout",
     "output_type": "stream",
     "text": [
      "(2678, 20)\n",
      "(2678,)\n"
     ]
    }
   ],
   "source": [
    "print(X.shape, y.shape, sep='\\n')"
   ]
  },
  {
   "cell_type": "code",
   "execution_count": 25,
   "metadata": {},
   "outputs": [
    {
     "data": {
      "text/plain": [
       "[LinearSVC(C=1000, max_iter=100000),\n",
       " DecisionTreeClassifier(max_depth=6, random_state=0),\n",
       " LogisticRegression(max_iter=100000),\n",
       " RandomForestClassifier(n_estimators=5, random_state=0)]"
      ]
     },
     "execution_count": 25,
     "metadata": {},
     "output_type": "execute_result"
    }
   ],
   "source": [
    "random_state_ = 0\n",
    "estimator1 = LinearSVC(C=1000, max_iter=100000, dual=True)\n",
    "estimator2 = DecisionTreeClassifier(max_depth = 6, random_state=random_state_)\n",
    "\n",
    "estimators = [estimator1]\n",
    "estimators.extend([estimator2])\n",
    "\n",
    "estimators.extend([\n",
    "    LogisticRegression(max_iter=100000),\n",
    "    RandomForestClassifier(n_estimators=5, random_state=random_state_)\n",
    "])\n",
    "estimators"
   ]
  },
  {
   "cell_type": "markdown",
   "metadata": {},
   "source": [
    "## Finding top15 Features"
   ]
  },
  {
   "cell_type": "code",
   "execution_count": null,
   "metadata": {},
   "outputs": [
    {
     "name": "stderr",
     "output_type": "stream",
     "text": [
      "/home/gbocho1er/anaconda3/envs/MLlearningtf/lib/python3.11/site-packages/sklearn/svm/_base.py:1244: ConvergenceWarning: Liblinear failed to converge, increase the number of iterations.\n",
      "  warnings.warn(\n",
      "/home/gbocho1er/anaconda3/envs/MLlearningtf/lib/python3.11/site-packages/sklearn/svm/_base.py:1244: ConvergenceWarning: Liblinear failed to converge, increase the number of iterations.\n",
      "  warnings.warn(\n",
      "/home/gbocho1er/anaconda3/envs/MLlearningtf/lib/python3.11/site-packages/sklearn/svm/_base.py:1244: ConvergenceWarning: Liblinear failed to converge, increase the number of iterations.\n",
      "  warnings.warn(\n",
      "/home/gbocho1er/anaconda3/envs/MLlearningtf/lib/python3.11/site-packages/sklearn/svm/_base.py:1244: ConvergenceWarning: Liblinear failed to converge, increase the number of iterations.\n",
      "  warnings.warn(\n"
     ]
    }
   ],
   "source": [
    "# finding top15 Features\n",
    "selectors = []\n",
    "selected_features = []\n",
    "for estimator in estimators:\n",
    "    selector = RFE(estimator=estimator, n_features_to_select=10, step=1)\n",
    "    \n",
    "    # Create a pipeline with StandardScaler and RFE selector\n",
    "    pipeline = make_pipeline(StandardScaler(), selector)\n",
    "    \n",
    "    # Fit the pipeline to the data\n",
    "    pipeline.fit(X, y)\n",
    "    \n",
    "    # Evaluate the model\n",
    "    print(\"accuracy:\", pipeline.score(X, y))\n",
    "    \n",
    "    # Append the fitted selector to the list\n",
    "    selectors.append(selector)\n",
    "    # Get the selected features and store them\n",
    "    selected_features.append(X.columns[selector.support_])\n",
    "\n"
   ]
  },
  {
   "cell_type": "code",
   "execution_count": null,
   "metadata": {},
   "outputs": [],
   "source": [
    "# Display results for each selector\n",
    "for idx, selector in enumerate(selectors):\n",
    "    print(f\"Estimator {idx+1}: {estimators[idx]}\")\n",
    "    feature_ranking =  selector.ranking_\n",
    "    # print(\"Selected features:\", selector.support_)\n",
    "    print(\"Feature ranking:\", feature_ranking)\n",
    "    print(X.columns[selector.support_])\n",
    "    # Get the indices of the sorted features\n",
    "    sorted_indices = np.argsort(feature_ranking)\n",
    "    # Print column names based on sorted indices\n",
    "    for idx in sorted_indices:\n",
    "        print(X.columns[idx])\n",
    "    print(\"\")\n"
   ]
  },
  {
   "cell_type": "code",
   "execution_count": null,
   "metadata": {},
   "outputs": [],
   "source": [
    "# finding top10 Features\n",
    "selectors = []\n",
    "selected_features = []\n",
    "for estimator in estimators:\n",
    "    selector = RFE(estimator=estimator, n_features_to_select=1, step=1)\n",
    "    \n",
    "    # Create a pipeline with StandardScaler and RFE selector\n",
    "    pipeline = make_pipeline(StandardScaler(), selector)\n",
    "    \n",
    "    # Fit the pipeline to the training data\n",
    "    pipeline.fit(X, y)\n",
    "    \n",
    "    # Evaluate the model\n",
    "    print(\"accuracy:\", pipeline.score(X, y))\n",
    "    \n",
    "    # Append the fitted selector to the list\n",
    "    selectors.append(selector)\n",
    "    # Get the selected features and store them\n",
    "    selected_features.append(X.columns[selector.support_])\n",
    "\n"
   ]
  },
  {
   "cell_type": "code",
   "execution_count": null,
   "metadata": {},
   "outputs": [],
   "source": [
    "from collections import defaultdict\n",
    "\n",
    "# Display results for each selector\n",
    "estimator_feature_rankings = {}\n",
    "for idx, selector in enumerate(selectors):\n",
    "    print(f\"Estimator {idx+1}: {estimators[idx]}\")\n",
    "    feature_ranking =  selector.ranking_\n",
    "    # print(\"Selected features:\", selector.support_)\n",
    "    print(\"Feature ranking:\", feature_ranking)\n",
    "    estimator_feature_rankings[f\"Estimator {idx+1}\"] = feature_ranking\n",
    "\n",
    "cumulative_rankings = defaultdict(int)\n",
    "\n",
    "# Accumulate rankings for each feature across all estimators\n",
    "for rankings in estimator_feature_rankings.values():\n",
    "    for idx, ranking in enumerate(rankings):\n",
    "        cumulative_rankings[idx] += ranking\n",
    "\n",
    "# Calculate the average ranking for each feature\n",
    "num_estimators = len(estimator_feature_rankings)\n",
    "average_rankings = {idx: total_ranking / num_estimators for idx, total_ranking in cumulative_rankings.items()}\n",
    "\n",
    "# Select the top 10 features based on average ranking\n",
    "top_i = 15\n",
    "top_features = sorted(average_rankings, key=average_rankings.get)[:top_i]\n",
    "\n",
    "# Output the selected features\n",
    "print(f\"Top {top_i} features based on average ranking:\")\n",
    "for feature_idx in top_features:\n",
    "    print(X.columns[feature_idx])"
   ]
  },
  {
   "cell_type": "markdown",
   "metadata": {},
   "source": [
    "Top 15 features based on average ranking:  \n",
    "Age   \n",
    "BMI   \n",
    "HHInc   \n",
    "GeneralHealth   \n",
    "CENSDIV     \n",
    "CancerAttention_LocalTV    \n",
    "OwnAbilityTakeCareHealth  \n",
    "CancerAttention_NatTV  \n",
    "CancerAttention_OnlineNews  \n",
    "EducA  \n",
    "CancerAttention_Internet  \n",
    "CancerAttention_PrintNews  \n",
    "MedConditions_HeartCondition  \n",
    "MedConditions_Depression  \n",
    "CancerAttention_HealthNews  "
   ]
  },
  {
   "cell_type": "code",
   "execution_count": 26,
   "metadata": {},
   "outputs": [],
   "source": [
    "top_features = [\n",
    "    \"Age\",\n",
    "    \"BMI\",\n",
    "    \"HHInc\",\n",
    "    \"GeneralHealth\",\n",
    "    \"CENSDIV\",\n",
    "    \"CancerAttention_LocalTV\",\n",
    "    \"OwnAbilityTakeCareHealth\",\n",
    "    \"CancerAttention_NatTV\",\n",
    "    \"CancerAttention_OnlineNews\",\n",
    "    \"EducA\",\n",
    "    \"CancerAttention_Internet\",\n",
    "    \"CancerAttention_PrintNews\",\n",
    "    \"MedConditions_HeartCondition\",\n",
    "    \"MedConditions_Depression\",\n",
    "    \"CancerAttention_HealthNews\"\n",
    "]\n"
   ]
  },
  {
   "cell_type": "markdown",
   "metadata": {},
   "source": [
    "## Fitting a classifier on top i features\n",
    "\n",
    "### Addressing UnbalancedNess"
   ]
  },
  {
   "cell_type": "code",
   "execution_count": 27,
   "metadata": {},
   "outputs": [],
   "source": [
    "from sklearn.model_selection import train_test_split\n",
    "from sklearn.pipeline import Pipeline #make_pipeline\n",
    "from sklearn.neighbors import KNeighborsClassifier\n"
   ]
  },
  {
   "cell_type": "code",
   "execution_count": 30,
   "metadata": {},
   "outputs": [
    {
     "name": "stdout",
     "output_type": "stream",
     "text": [
      "(2678, 15)\n",
      "(2678,)\n"
     ]
    }
   ],
   "source": [
    "## tentative approach -- just place holder\n",
    "\n",
    "# Get the indices of the top i features\n",
    "\n",
    "# top_indices = np.argsort(top_features)[:top_i]\n",
    "\n",
    "# Select the top 10 features of X and create a new DataFrame\n",
    "new_dataset_X = X[top_features].copy()\n",
    "new_dataset_Y = y.copy()\n",
    "\n",
    "print(new_dataset_X.shape,new_dataset_Y.shape, sep='\\n')\n",
    "new_dataset = pd.concat([new_dataset_X, new_dataset_Y],axis = 1)"
   ]
  },
  {
   "cell_type": "markdown",
   "metadata": {
    "jp-MarkdownHeadingCollapsed": true
   },
   "source": [
    "#### estimators"
   ]
  },
  {
   "cell_type": "code",
   "execution_count": 31,
   "metadata": {},
   "outputs": [],
   "source": [
    "X_train, X_test, y_train, y_test = train_test_split(new_dataset_X, new_dataset_Y,\n",
    "                                            shuffle=True,\n",
    "                                            random_state=random_state_,\n",
    "                                            stratify=y)"
   ]
  },
  {
   "cell_type": "code",
   "execution_count": 32,
   "metadata": {},
   "outputs": [
    {
     "name": "stdout",
     "output_type": "stream",
     "text": [
      "[LinearSVC(C=1000, max_iter=100000), DecisionTreeClassifier(max_depth=6, random_state=0), LogisticRegression(max_iter=100000), RandomForestClassifier(n_estimators=5, random_state=0)]\n",
      "[LinearSVC(C=1000, max_iter=100000), DecisionTreeClassifier(max_depth=6, random_state=0), LogisticRegression(max_iter=100000), RandomForestClassifier(n_estimators=5, random_state=0), Pipeline(steps=[('scale', StandardScaler()), ('knn', KNeighborsClassifier())])]\n"
     ]
    }
   ],
   "source": [
    "print(estimators)\n",
    "estimator_names = ['LinearSVC','DecisionTree', 'LogisticRegression', 'RandomFoerest']\n",
    "\n",
    "knn_pipe = Pipeline([('scale', StandardScaler()),('knn', KNeighborsClassifier(5))])\n",
    "estimators.extend([knn_pipe])\n",
    "estimator_names.extend(['knn'])\n",
    "print(estimators)"
   ]
  },
  {
   "cell_type": "markdown",
   "metadata": {},
   "source": [
    "## Decide on undersampled data or oversampling"
   ]
  },
  {
   "cell_type": "markdown",
   "metadata": {},
   "source": [
    "###  Decide on undersampled data "
   ]
  },
  {
   "cell_type": "code",
   "execution_count": 33,
   "metadata": {},
   "outputs": [
    {
     "name": "stdout",
     "output_type": "stream",
     "text": [
      "2355 323\n"
     ]
    }
   ],
   "source": [
    "### Class balancing\n",
    "# class_count_0, class_count_1 = y_train.value_counts()\n",
    "# print(class_count_0, class_count_1)\n",
    "\n",
    "### Class balancing\n",
    "class_count_0, class_count_1 = new_dataset.EverHadCancer.value_counts()\n",
    "print(class_count_0, class_count_1)"
   ]
  },
  {
   "cell_type": "code",
   "execution_count": 34,
   "metadata": {},
   "outputs": [
    {
     "name": "stdout",
     "output_type": "stream",
     "text": [
      "class 0: (2355, 16)\n",
      "class 1: (323, 16)\n"
     ]
    }
   ],
   "source": [
    "class_0 = new_dataset[new_dataset['EverHadCancer'] == 2]\n",
    "class_1 = new_dataset[new_dataset['EverHadCancer'] == 1]\n",
    "print('class 0:', class_0.shape)\n",
    "print('class 1:', class_1.shape)"
   ]
  },
  {
   "cell_type": "code",
   "execution_count": 35,
   "metadata": {},
   "outputs": [
    {
     "name": "stdout",
     "output_type": "stream",
     "text": [
      "class 0: (323, 16)\n",
      "class 1: (323, 16)\n"
     ]
    }
   ],
   "source": [
    "# undersampled_train = pd.concat([X_train, y_train],axis = 1)\n",
    "# # undersampled_train\n",
    "class_0_under = class_0.sample(class_count_1)\n",
    "balanced_undersampled = pd.concat([class_0_under, class_1], axis=0)\n",
    "balanced_undersampled.shape\n",
    "# balanced_train.EverHadCancer.value_counts()\n",
    "\n",
    "check_0 = balanced_undersampled[balanced_undersampled['EverHadCancer'] == 2]\n",
    "check_1 = balanced_undersampled[balanced_undersampled['EverHadCancer'] == 1]\n",
    "print('class 0:', check_0.shape)\n",
    "print('class 1:', check_1.shape)"
   ]
  },
  {
   "cell_type": "markdown",
   "metadata": {},
   "source": [
    "### Decide on oversampling "
   ]
  },
  {
   "cell_type": "code",
   "execution_count": 36,
   "metadata": {},
   "outputs": [
    {
     "name": "stdout",
     "output_type": "stream",
     "text": [
      "Original class distribution: Counter({2.0: 2355, 1.0: 323})\n",
      "Resampled class distribution: Counter({2.0: 2355, 1.0: 2355})\n",
      "(2678, 15)\n"
     ]
    }
   ],
   "source": [
    "from imblearn.over_sampling import RandomOverSampler\n",
    "from collections import Counter\n",
    "\n",
    "# Example data\n",
    "\n",
    "# Showing the original class distribution\n",
    "print(\"Original class distribution:\", Counter(new_dataset_Y))\n",
    "\n",
    "# Define the oversampling strategy\n",
    "ros = RandomOverSampler(random_state=random_state_)\n",
    "\n",
    "# Fit and apply the transform\n",
    "X_oversampled, y_oversampled = ros.fit_resample(new_dataset_X, new_dataset_Y)\n",
    "\n",
    "# Showing the new class distribution\n",
    "print(\"Resampled class distribution:\", Counter(y_oversampled))\n",
    "print(new_dataset_X.shape)\n",
    "# 2355+323"
   ]
  },
  {
   "cell_type": "markdown",
   "metadata": {},
   "source": [
    "## Decide on classifiers"
   ]
  },
  {
   "cell_type": "markdown",
   "metadata": {},
   "source": [
    "#### import func"
   ]
  },
  {
   "cell_type": "code",
   "execution_count": 37,
   "metadata": {},
   "outputs": [],
   "source": [
    "from sklearn.model_selection import StratifiedKFold\n",
    "\n",
    "def accuracy_score_m(true, predicted):\n",
    "    return np.sum(true==predicted)/len(predicted)\n",
    "\n",
    "\n",
    "## make the kfold object\n",
    "kfold = StratifiedKFold(n_splits=5, shuffle=True, random_state=random_state_)"
   ]
  },
  {
   "cell_type": "markdown",
   "metadata": {},
   "source": [
    "### train_test_split undersamples"
   ]
  },
  {
   "cell_type": "code",
   "execution_count": 38,
   "metadata": {},
   "outputs": [
    {
     "name": "stdout",
     "output_type": "stream",
     "text": [
      "(516, 16) (130, 16)\n"
     ]
    }
   ],
   "source": [
    "balanced_train, balanced_test = train_test_split(balanced_undersampled, shuffle=True, test_size = 0.2,\n",
    "                                            random_state=random_state_)\n",
    "\n",
    "print(balanced_train.shape, balanced_test.shape)"
   ]
  },
  {
   "cell_type": "markdown",
   "metadata": {},
   "source": [
    "### train_test_split oversamples"
   ]
  },
  {
   "cell_type": "code",
   "execution_count": 39,
   "metadata": {},
   "outputs": [
    {
     "name": "stdout",
     "output_type": "stream",
     "text": [
      "(3768, 15) (942, 15)\n"
     ]
    }
   ],
   "source": [
    "X_train_over, X_test_over, y_train_over, y_test_over = train_test_split(X_oversampled, y_oversampled, test_size = 0.2,\n",
    "                                            shuffle=True,\n",
    "                                            random_state=random_state_)\n",
    "print(X_train_over.shape, X_test_over.shape)"
   ]
  },
  {
   "cell_type": "markdown",
   "metadata": {},
   "source": [
    "### Kfold for undersampling"
   ]
  },
  {
   "cell_type": "code",
   "execution_count": 58,
   "metadata": {},
   "outputs": [
    {
     "name": "stderr",
     "output_type": "stream",
     "text": [
      "/home/gbocho1er/anaconda3/envs/MLlearningtf/lib/python3.11/site-packages/sklearn/svm/_base.py:1244: ConvergenceWarning: Liblinear failed to converge, increase the number of iterations.\n",
      "  warnings.warn(\n",
      "/home/gbocho1er/anaconda3/envs/MLlearningtf/lib/python3.11/site-packages/sklearn/svm/_base.py:1244: ConvergenceWarning: Liblinear failed to converge, increase the number of iterations.\n",
      "  warnings.warn(\n",
      "/home/gbocho1er/anaconda3/envs/MLlearningtf/lib/python3.11/site-packages/sklearn/svm/_base.py:1244: ConvergenceWarning: Liblinear failed to converge, increase the number of iterations.\n",
      "  warnings.warn(\n",
      "/home/gbocho1er/anaconda3/envs/MLlearningtf/lib/python3.11/site-packages/sklearn/svm/_base.py:1244: ConvergenceWarning: Liblinear failed to converge, increase the number of iterations.\n",
      "  warnings.warn(\n",
      "/home/gbocho1er/anaconda3/envs/MLlearningtf/lib/python3.11/site-packages/sklearn/svm/_base.py:1244: ConvergenceWarning: Liblinear failed to converge, increase the number of iterations.\n",
      "  warnings.warn(\n"
     ]
    },
    {
     "name": "stdout",
     "output_type": "stream",
     "text": [
      "DONE\n"
     ]
    }
   ],
   "source": [
    "results = {}\n",
    "\n",
    "for estimator, name in zip(estimators, estimator_names):\n",
    "\n",
    "    accuracies = []\n",
    "    for train_index, test_index in kfold.split(balanced_train.iloc[:,:-1], balanced_train.EverHadCancer):\n",
    "        X_train, X_test = balanced_train.iloc[:,:-1].iloc[train_index], balanced_train.iloc[:,:-1].iloc[test_index]\n",
    "        y_train, y_test = balanced_train.EverHadCancer.iloc[train_index], balanced_train.EverHadCancer.iloc[test_index]\n",
    "\n",
    "        # Fit RFE and transform the datasets\n",
    "        # X_train_rfe = selector.fit_transform(X_train, y_train)\n",
    "        # X_test_rfe = selector.transform(X_test)\n",
    "\n",
    "        # Fit the model on the reduced feature set\n",
    "        estimator.fit(X_train, y_train)\n",
    "        predictions = estimator.predict(X_test)\n",
    "        accuracy = accuracy_score_m(y_test, predictions)\n",
    "        # print(accuracy)\n",
    "        accuracies.append(accuracy)\n",
    "    av_accuracies = np.mean(accuracies)\n",
    "\n",
    "    results[name] = av_accuracies\n",
    "\n",
    "print(\"DONE\")"
   ]
  },
  {
   "cell_type": "code",
   "execution_count": 59,
   "metadata": {},
   "outputs": [
    {
     "name": "stdout",
     "output_type": "stream",
     "text": [
      "LinearSVC  :  0.5444548170276325\n",
      "DecisionTree  :  0.655041075429425\n",
      "LogisticRegression  :  0.709260642270351\n",
      "RandomFoerest  :  0.6278939507094847\n",
      "knn  :  0.6027072442120985\n"
     ]
    }
   ],
   "source": [
    "for name, accuracies in results.items():\n",
    "    print(name, ' : ', accuracies)\n"
   ]
  },
  {
   "cell_type": "markdown",
   "metadata": {},
   "source": [
    "### Kfold for oversamples"
   ]
  },
  {
   "cell_type": "code",
   "execution_count": 60,
   "metadata": {},
   "outputs": [
    {
     "name": "stderr",
     "output_type": "stream",
     "text": [
      "/home/gbocho1er/anaconda3/envs/MLlearningtf/lib/python3.11/site-packages/sklearn/svm/_base.py:1244: ConvergenceWarning: Liblinear failed to converge, increase the number of iterations.\n",
      "  warnings.warn(\n",
      "/home/gbocho1er/anaconda3/envs/MLlearningtf/lib/python3.11/site-packages/sklearn/svm/_base.py:1244: ConvergenceWarning: Liblinear failed to converge, increase the number of iterations.\n",
      "  warnings.warn(\n",
      "/home/gbocho1er/anaconda3/envs/MLlearningtf/lib/python3.11/site-packages/sklearn/svm/_base.py:1244: ConvergenceWarning: Liblinear failed to converge, increase the number of iterations.\n",
      "  warnings.warn(\n",
      "/home/gbocho1er/anaconda3/envs/MLlearningtf/lib/python3.11/site-packages/sklearn/svm/_base.py:1244: ConvergenceWarning: Liblinear failed to converge, increase the number of iterations.\n",
      "  warnings.warn(\n",
      "/home/gbocho1er/anaconda3/envs/MLlearningtf/lib/python3.11/site-packages/sklearn/svm/_base.py:1244: ConvergenceWarning: Liblinear failed to converge, increase the number of iterations.\n",
      "  warnings.warn(\n"
     ]
    },
    {
     "name": "stdout",
     "output_type": "stream",
     "text": [
      "DONE\n"
     ]
    }
   ],
   "source": [
    "results = {}\n",
    "\n",
    "for estimator, name in zip(estimators, estimator_names):\n",
    "\n",
    "    accuracies = []\n",
    "    for train_index, test_index in kfold.split(X_train_over, y_train_over):\n",
    "        X_train, X_test = X_train_over.iloc[train_index], X_train_over.iloc[test_index]\n",
    "        y_train, y_test = y_train_over.iloc[train_index], y_train_over.iloc[test_index]\n",
    "\n",
    "        # Fit RFE and transform the datasets\n",
    "        # X_train_trans = estimator.fit_transform(X_train, y_train)\n",
    "        # X_test_trans = estimator.transform(X_test)\n",
    "\n",
    "        # Fit the model on the reduced feature set\n",
    "        estimator.fit(X_train, y_train)\n",
    "        predictions = estimator.predict(X_test)\n",
    "        accuracy = accuracy_score_m(y_test, predictions)\n",
    "        # print(accuracy)\n",
    "        accuracies.append(accuracy)\n",
    "    av_accuracies = np.mean(accuracies)\n",
    "\n",
    "    results[name] = av_accuracies\n",
    "\n",
    "print(\"DONE\")"
   ]
  },
  {
   "cell_type": "code",
   "execution_count": 61,
   "metadata": {},
   "outputs": [
    {
     "name": "stdout",
     "output_type": "stream",
     "text": [
      "LinearSVC  :  0.5305124330265146\n",
      "DecisionTree  :  0.7303599043261085\n",
      "LogisticRegression  :  0.700635125281368\n",
      "RandomFoerest  :  0.9333886381969909\n",
      "knn  :  0.8020184513933655\n"
     ]
    }
   ],
   "source": [
    "for name, accuracies in results.items():\n",
    "    print(name, ' : ', accuracies)\n"
   ]
  },
  {
   "cell_type": "markdown",
   "metadata": {},
   "source": [
    "# Do hyperparameter Tuning with the oversampling "
   ]
  },
  {
   "cell_type": "code",
   "execution_count": 40,
   "metadata": {},
   "outputs": [
    {
     "name": "stdout",
     "output_type": "stream",
     "text": [
      "Fitting 5 folds for each of 4320 candidates, totalling 21600 fits\n",
      "Time taken for hyperparameter tuning: 1099.74 seconds\n",
      "Best parameters found:  {'bootstrap': False, 'criterion': 'gini', 'max_depth': None, 'max_features': 'sqrt', 'min_samples_leaf': 1, 'min_samples_split': 2, 'n_estimators': 100}\n",
      "Best cross-validation accuracy: 98.59%\n"
     ]
    }
   ],
   "source": [
    "from sklearn.model_selection import GridSearchCV, KFold\n",
    "from sklearn.ensemble import RandomForestClassifier\n",
    "from sklearn.metrics import accuracy_score\n",
    "import time\n",
    "\n",
    "\n",
    "# param_grid_reduced = {\n",
    "#     'n_estimators': [50, 200],\n",
    "#     'max_features': ['sqrt', 'log2'],\n",
    "#     'max_depth': [None, 10],\n",
    "#     'min_samples_split': [2, 10],\n",
    "#     'min_samples_leaf': [1, 4],\n",
    "#     'bootstrap': [True, False],\n",
    "#     'criterion': ['gini', 'entropy']\n",
    "# }\n",
    "\n",
    "# Define the hyperparameters to tune\n",
    "param_grid_ = {\n",
    "    'n_estimators': [5,50, 100, 200, 400],  # Including higher values for more comprehensive search\n",
    "    'max_features': ['sqrt', 'log2', None],  # 'None' to consider all features\n",
    "    'max_depth': [None, 4, 6, 8, 10, 12, 15, 20],  # 'None' allows trees to grow until all leaves are pure\n",
    "    'min_samples_split': [2, 5, 10],  # Minimum number of samples required to split an internal node\n",
    "    'min_samples_leaf': [1, 2, 4],  # Minimum number of samples required to be at a leaf node\n",
    "    'bootstrap': [True, False],  # Whether bootstrap samples are used when building trees\n",
    "    'criterion': ['gini', 'entropy']\n",
    "}\n",
    "\n",
    "\n",
    "\n",
    "# Create a Random Forest Classifier\n",
    "model = RandomForestClassifier(random_state=random_state_)\n",
    "\n",
    "\n",
    "\n",
    "# Set up the grid search with k-fold cross-validation\n",
    "grid_search = GridSearchCV(estimator=model, param_grid=param_grid_, \n",
    "                           cv=kfold, n_jobs=-1, verbose=1)\n",
    "start_time = time.time()\n",
    "# Fit the grid search to the data\n",
    "grid_search.fit(X_train_over, y_train_over)\n",
    "end_time = time.time()\n",
    "total_time = end_time - start_time\n",
    "\n",
    "# Print the time taken\n",
    "print(f\"Time taken for hyperparameter tuning: {total_time:.2f} seconds\")\n",
    "\n",
    "\n",
    "# Print the best parameters and best score\n",
    "print(\"Best parameters found: \", grid_search.best_params_)\n",
    "print(\"Best cross-validation accuracy: {:.2f}%\".format(grid_search.best_score_ * 100))\n",
    "\n",
    "\n"
   ]
  },
  {
   "cell_type": "code",
   "execution_count": 41,
   "metadata": {},
   "outputs": [
    {
     "name": "stdout",
     "output_type": "stream",
     "text": [
      "Accuracy on the testing set: 99.36%\n"
     ]
    }
   ],
   "source": [
    "# best estimator to make predictions on testing set\n",
    "best_rf = grid_search.best_estimator_\n",
    "test_predictions = best_rf.predict(X_test_over)\n",
    "accuracy = accuracy_score(y_test_over, test_predictions)\n",
    "print(\"Accuracy on the training set: {:.2f}%\".format(accuracy * 100))\n"
   ]
  },
  {
   "cell_type": "code",
   "execution_count": 42,
   "metadata": {},
   "outputs": [
    {
     "name": "stdout",
     "output_type": "stream",
     "text": [
      "\n",
      "Classification Report on the Test Set:\n",
      "              precision    recall  f1-score   support\n",
      "\n",
      "         1.0       0.99      1.00      0.99       456\n",
      "         2.0       1.00      0.99      0.99       486\n",
      "\n",
      "    accuracy                           0.99       942\n",
      "   macro avg       0.99      0.99      0.99       942\n",
      "weighted avg       0.99      0.99      0.99       942\n",
      "\n"
     ]
    },
    {
     "data": {
      "image/png": "[encoded data removed]",
      "text/plain": [
       "<Figure size 640x480 with 2 Axes>"
      ]
     },
     "metadata": {},
     "output_type": "display_data"
    }
   ],
   "source": [
    "from sklearn.metrics import classification_report, confusion_matrix\n",
    "import seaborn as sns\n",
    "\n",
    "# Print the classification report on the test set\n",
    "print(\"\\nClassification Report on the Test Set:\")\n",
    "print(classification_report(y_test_over, test_predictions))\n",
    "\n",
    "\n",
    "# Confusion Matrix\n",
    "conf_matrix = confusion_matrix(y_test_over, test_predictions)\n",
    "sns.heatmap(conf_matrix, annot=True, fmt='d', cmap='Blues')\n",
    "plt.xlabel('Predicted')\n",
    "plt.ylabel('Actual')\n",
    "plt.title('Confusion Matrix on the Test Set')\n",
    "plt.show()"
   ]
  },
  {
   "cell_type": "code",
   "execution_count": 43,
   "metadata": {},
   "outputs": [
    {
     "data": {
      "image/png": "[encoded data removed]",
      "text/plain": [
       "<Figure size 1000x600 with 1 Axes>"
      ]
     },
     "metadata": {},
     "output_type": "display_data"
    }
   ],
   "source": [
    "importances = best_rf.feature_importances_\n",
    "indices = np.argsort(importances)[::-1]\n",
    "features = X_test_over.columns[indices]\n",
    "\n",
    "# Plot the feature importances\n",
    "plt.figure(figsize=(10, 6))\n",
    "plt.title(\"Feature Importances\")\n",
    "plt.bar(range(X_test_over.shape[1]), importances[indices], align=\"center\")\n",
    "plt.xticks(range(X_test_over.shape[1]), [features[i] for i in indices], rotation=90)\n",
    "plt.xlim([-1, X_test_over.shape[1]])\n",
    "plt.show()\n"
   ]
  },
  {
   "cell_type": "code",
   "execution_count": 44,
   "metadata": {},
   "outputs": [
    {
     "name": "stdout",
     "output_type": "stream",
     "text": [
      "{'bootstrap': False, 'criterion': 'gini', 'max_depth': None, 'max_features': 'sqrt', 'min_samples_leaf': 1, 'min_samples_split': 2, 'n_estimators': 100}\n",
      "99.36305732484077\n",
      "              precision    recall  f1-score   support\n",
      "\n",
      "         1.0       0.99      1.00      0.99       456\n",
      "         2.0       1.00      0.99      0.99       486\n",
      "\n",
      "    accuracy                           0.99       942\n",
      "   macro avg       0.99      0.99      0.99       942\n",
      "weighted avg       0.99      0.99      0.99       942\n",
      "\n",
      "Index(['Age', 'BMI', 'CENSDIV', 'HHInc', 'GeneralHealth'], dtype='object')\n"
     ]
    }
   ],
   "source": [
    "print(grid_search.best_params_, accuracy * 100, classification_report(y_test_over, test_predictions) \n",
    "           ,features[:5], sep = '\\n')"
   ]
  },
  {
   "cell_type": "code",
   "execution_count": null,
   "metadata": {},
   "outputs": [],
   "source": []
  }
 ],
 "metadata": {
  "colab": {
   "provenance": []
  },
  "kernelspec": {
   "display_name": "Python 3 (ipykernel)",
   "language": "python",
   "name": "python3"
  },
  "language_info": {
   "codemirror_mode": {
    "name": "ipython",
    "version": 3
   },
   "file_extension": ".py",
   "mimetype": "text/x-python",
   "name": "python",
   "nbconvert_exporter": "python",
   "pygments_lexer": "ipython3",
   "version": "3.11.3"
  }
 },
 "nbformat": 4,
 "nbformat_minor": 4
}
