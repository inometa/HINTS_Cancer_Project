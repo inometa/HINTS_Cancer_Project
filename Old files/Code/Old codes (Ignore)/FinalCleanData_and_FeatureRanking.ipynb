{
 "cells": [
  {
   "cell_type": "code",
   "execution_count": 1,
   "metadata": {
    "id": "1LXZruj2Mbqx"
   },
   "outputs": [],
   "source": [
    "import numpy as np\n",
    "import matplotlib.pyplot as plt\n",
    "import pandas as pd\n",
    "import seaborn as sns"
   ]
  },
  {
   "cell_type": "code",
   "execution_count": 2,
   "metadata": {
    "id": "chw1ThQFMjQL"
   },
   "outputs": [],
   "source": [
    "all_hints = pd.read_csv(\"../data/HINTS_erdos.csv\")\n",
    "# all_hints =  all_hints.drop(['APP_REGION', 'PERSONID', 'HHID'], axis=1, inplace=False)"
   ]
  },
  {
   "cell_type": "code",
   "execution_count": 5,
   "metadata": {
    "colab": {
     "base_uri": "https://localhost:8080/"
    },
    "id": "obz3y2QJNECN",
    "outputId": "53ceee88-cf61-4ffb-feb9-b131887e9a37"
   },
   "outputs": [
    {
     "name": "stdout",
     "output_type": "stream",
     "text": [
      "(3630, 357)\n",
      "HHID                3630\n",
      "PERSONID            3630\n",
      "Stratum             3630\n",
      "APP_REGION           259\n",
      "HIGHSPANLI          3630\n",
      "                    ... \n",
      "AgeDX               3630\n",
      "TimeSinceDX         3630\n",
      "smokeStat           3630\n",
      "PHQ4                3630\n",
      "IncomeRanges_IMP    3630\n",
      "Length: 357, dtype: int64\n"
     ]
    }
   ],
   "source": [
    "print(all_hints.shape)\n",
    "print(all_hints.count())"
   ]
  },
  {
   "cell_type": "markdown",
   "metadata": {},
   "source": [
    "## **Data subset on \"Cancer Attention Info + Demographic info\"**\n"
   ]
  },
  {
   "cell_type": "code",
   "execution_count": 14,
   "metadata": {},
   "outputs": [
    {
     "name": "stdout",
     "output_type": "stream",
     "text": [
      "(3630, 15)\n"
     ]
    }
   ],
   "source": [
    "base_list = ['Age','BMI','CancerAttention_HealthNews','CancerAttention_Internet','CancerAttention_LocalTV','CancerAttention_NatTV','CancerAttention_OnlineNews','CancerAttention_PrintNews','CENSDIV','EducA','EverHadCancer','GenderC','HHInc','InternetCancerInfoSelf','InternetCancerInfoSite']\n",
    "hints_base = pd.DataFrame(all_hints, columns = base_list)\n",
    "print(hints_base.shape)"
   ]
  },
  {
   "cell_type": "code",
   "execution_count": 15,
   "metadata": {
    "id": "Y3--z9PXNYYz"
   },
   "outputs": [],
   "source": [
    "#set all the features with numerical values to integers  and character as categorical\n",
    "\n",
    "# Convert numerical features to integers\n",
    "numerical_features = hints_base.select_dtypes(include=['int64', 'float64']).columns\n",
    "hints_base[numerical_features] = hints_base[numerical_features].astype('int32')\n",
    "\n",
    "# Convert character features to categorical\n",
    "character_features = hints_base.select_dtypes(include=['object']).columns\n",
    "hints_base[character_features] = hints_base[character_features].astype('category')\n"
   ]
  },
  {
   "cell_type": "code",
   "execution_count": 17,
   "metadata": {},
   "outputs": [
    {
     "data": {
      "text/html": [
       "<div>\n",
       "<style scoped>\n",
       "    .dataframe tbody tr th:only-of-type {\n",
       "        vertical-align: middle;\n",
       "    }\n",
       "\n",
       "    .dataframe tbody tr th {\n",
       "        vertical-align: top;\n",
       "    }\n",
       "\n",
       "    .dataframe thead th {\n",
       "        text-align: right;\n",
       "    }\n",
       "</style>\n",
       "<table border=\"1\" class=\"dataframe\">\n",
       "  <thead>\n",
       "    <tr style=\"text-align: right;\">\n",
       "      <th></th>\n",
       "      <th>Age</th>\n",
       "      <th>BMI</th>\n",
       "      <th>CancerAttention_HealthNews</th>\n",
       "      <th>CancerAttention_Internet</th>\n",
       "      <th>CancerAttention_LocalTV</th>\n",
       "      <th>CancerAttention_NatTV</th>\n",
       "      <th>CancerAttention_OnlineNews</th>\n",
       "      <th>CancerAttention_PrintNews</th>\n",
       "      <th>CENSDIV</th>\n",
       "      <th>EducA</th>\n",
       "      <th>EverHadCancer</th>\n",
       "      <th>GenderC</th>\n",
       "      <th>HHInc</th>\n",
       "      <th>InternetCancerInfoSelf</th>\n",
       "      <th>InternetCancerInfoSite</th>\n",
       "    </tr>\n",
       "  </thead>\n",
       "  <tbody>\n",
       "    <tr>\n",
       "      <th>0</th>\n",
       "      <td>29.0</td>\n",
       "      <td>29.0</td>\n",
       "      <td>1.0</td>\n",
       "      <td>1.0</td>\n",
       "      <td>3.0</td>\n",
       "      <td>3.0</td>\n",
       "      <td>3.0</td>\n",
       "      <td>3.0</td>\n",
       "      <td>5</td>\n",
       "      <td>3.0</td>\n",
       "      <td>2.0</td>\n",
       "      <td>2.0</td>\n",
       "      <td>5.0</td>\n",
       "      <td>2.0</td>\n",
       "      <td>1.0</td>\n",
       "    </tr>\n",
       "    <tr>\n",
       "      <th>1</th>\n",
       "      <td>69.0</td>\n",
       "      <td>27.0</td>\n",
       "      <td>1.0</td>\n",
       "      <td>2.0</td>\n",
       "      <td>1.0</td>\n",
       "      <td>1.0</td>\n",
       "      <td>3.0</td>\n",
       "      <td>3.0</td>\n",
       "      <td>2</td>\n",
       "      <td>2.0</td>\n",
       "      <td>2.0</td>\n",
       "      <td>2.0</td>\n",
       "      <td>NaN</td>\n",
       "      <td>2.0</td>\n",
       "      <td>2.0</td>\n",
       "    </tr>\n",
       "    <tr>\n",
       "      <th>2</th>\n",
       "      <td>32.0</td>\n",
       "      <td>20.0</td>\n",
       "      <td>2.0</td>\n",
       "      <td>2.0</td>\n",
       "      <td>2.0</td>\n",
       "      <td>2.0</td>\n",
       "      <td>2.0</td>\n",
       "      <td>2.0</td>\n",
       "      <td>3</td>\n",
       "      <td>4.0</td>\n",
       "      <td>2.0</td>\n",
       "      <td>2.0</td>\n",
       "      <td>5.0</td>\n",
       "      <td>1.0</td>\n",
       "      <td>2.0</td>\n",
       "    </tr>\n",
       "    <tr>\n",
       "      <th>3</th>\n",
       "      <td>41.0</td>\n",
       "      <td>22.0</td>\n",
       "      <td>1.0</td>\n",
       "      <td>2.0</td>\n",
       "      <td>3.0</td>\n",
       "      <td>2.0</td>\n",
       "      <td>2.0</td>\n",
       "      <td>2.0</td>\n",
       "      <td>5</td>\n",
       "      <td>4.0</td>\n",
       "      <td>2.0</td>\n",
       "      <td>2.0</td>\n",
       "      <td>5.0</td>\n",
       "      <td>2.0</td>\n",
       "      <td>2.0</td>\n",
       "    </tr>\n",
       "    <tr>\n",
       "      <th>4</th>\n",
       "      <td>46.0</td>\n",
       "      <td>28.0</td>\n",
       "      <td>2.0</td>\n",
       "      <td>2.0</td>\n",
       "      <td>2.0</td>\n",
       "      <td>2.0</td>\n",
       "      <td>2.0</td>\n",
       "      <td>2.0</td>\n",
       "      <td>5</td>\n",
       "      <td>NaN</td>\n",
       "      <td>2.0</td>\n",
       "      <td>2.0</td>\n",
       "      <td>3.0</td>\n",
       "      <td>2.0</td>\n",
       "      <td>2.0</td>\n",
       "    </tr>\n",
       "  </tbody>\n",
       "</table>\n",
       "</div>"
      ],
      "text/plain": [
       "    Age   BMI  CancerAttention_HealthNews  CancerAttention_Internet  \\\n",
       "0  29.0  29.0                         1.0                       1.0   \n",
       "1  69.0  27.0                         1.0                       2.0   \n",
       "2  32.0  20.0                         2.0                       2.0   \n",
       "3  41.0  22.0                         1.0                       2.0   \n",
       "4  46.0  28.0                         2.0                       2.0   \n",
       "\n",
       "   CancerAttention_LocalTV  CancerAttention_NatTV  CancerAttention_OnlineNews  \\\n",
       "0                      3.0                    3.0                         3.0   \n",
       "1                      1.0                    1.0                         3.0   \n",
       "2                      2.0                    2.0                         2.0   \n",
       "3                      3.0                    2.0                         2.0   \n",
       "4                      2.0                    2.0                         2.0   \n",
       "\n",
       "   CancerAttention_PrintNews  CENSDIV  EducA  EverHadCancer  GenderC  HHInc  \\\n",
       "0                        3.0        5    3.0            2.0      2.0    5.0   \n",
       "1                        3.0        2    2.0            2.0      2.0    NaN   \n",
       "2                        2.0        3    4.0            2.0      2.0    5.0   \n",
       "3                        2.0        5    4.0            2.0      2.0    5.0   \n",
       "4                        2.0        5    NaN            2.0      2.0    3.0   \n",
       "\n",
       "   InternetCancerInfoSelf  InternetCancerInfoSite  \n",
       "0                     2.0                     1.0  \n",
       "1                     2.0                     2.0  \n",
       "2                     1.0                     2.0  \n",
       "3                     2.0                     2.0  \n",
       "4                     2.0                     2.0  "
      ]
     },
     "execution_count": 17,
     "metadata": {},
     "output_type": "execute_result"
    }
   ],
   "source": [
    "#turn all values less than 0 to NA in integer type features\n",
    "hints_base[numerical_features] = hints_base[numerical_features].map(lambda x: np.nan if x < 0 else x)\n",
    "hints_base.head()"
   ]
  },
  {
   "cell_type": "markdown",
   "metadata": {
    "id": "-I4n4SQDPXdQ"
   },
   "source": [
    "## **Data subset on \"Medical Conditions\"**\n"
   ]
  },
  {
   "cell_type": "code",
   "execution_count": 21,
   "metadata": {
    "id": "PRwIEGQ3OP7P"
   },
   "outputs": [],
   "source": [
    "YourOverallHealth = ([\"GeneralHealth\", \"OwnAbilityTakeCareHealth\", \"MedConditions_Diabetes\", \"MedConditions_HighBP\", \"MedConditions_HeartCondition\", \"MedConditions_LungDisease\", \"MedConditions_Arthritis\", \"MedConditions_Depression\", \"SleepWorkdayHr\", \"SleepWorkdayMn\", \"SleepWeekendHr\", \"SleepWeekendMn\", \"Height_Feet\", \"Height_Inches\", \"Weight\", \"WeightIntention\", \"WeightOpinion\", \"LittleInterest\", \"Hopeless\", \"Nervous\", \"Worrying\", \"EmotionalSupport\", \"TalkHealthFriends\", \"HelpDailyChores\"])\n",
    "\n",
    "MedicalConditions = ([\"GeneralHealth\", \"OwnAbilityTakeCareHealth\", \"MedConditions_Diabetes\", \"MedConditions_HighBP\", \"MedConditions_HeartCondition\", \"MedConditions_LungDisease\", \"MedConditions_Arthritis\", \"MedConditions_Depression\"])#, \"LittleInterest\", \"Hopeless\", \"Nervous\", \"Worrying\", \"EmotionalSupport\", \"TalkHealthFriends\", \"HelpDailyChores\"])\n"
   ]
  },
  {
   "cell_type": "code",
   "execution_count": 22,
   "metadata": {
    "id": "YewOZmOpP8oH"
   },
   "outputs": [],
   "source": [
    "hints_health = all_hints[MedicalConditions]"
   ]
  },
  {
   "cell_type": "code",
   "execution_count": 26,
   "metadata": {
    "colab": {
     "base_uri": "https://localhost:8080/"
    },
    "id": "q-VoAWKnXtVP",
    "outputId": "4a833b6c-b81e-4fb6-c409-8637b137633e"
   },
   "outputs": [],
   "source": [
    "#set all the features with numerical values to integers  and character as categorical\n",
    "\n",
    "# # Convert numerical features to integers\n",
    "num_features = hints_health.select_dtypes(include=['int64', 'float64']).columns\n",
    "hints_health[num_features] = hints_health[num_features].astype('int32')\n",
    "\n",
    "# Convert character features to categorical\n",
    "char_features = hints_health.select_dtypes(include=['object']).columns\n",
    "hints_health[char_features] = hints_health[char_features].astype('category')\n"
   ]
  },
  {
   "cell_type": "markdown",
   "metadata": {
    "id": "UZJ2afF4RqZy"
   },
   "source": [
    "### **Visualising NAs**"
   ]
  },
  {
   "cell_type": "code",
   "execution_count": 29,
   "metadata": {
    "colab": {
     "base_uri": "https://localhost:8080/",
     "height": 638
    },
    "id": "DJgVRcJlRHid",
    "outputId": "76ea0047-1e48-485b-d9bf-20631ada6f01"
   },
   "outputs": [
    {
     "data": {
      "image/png": "[encoded data removed]",
      "text/plain": [
       "<Figure size 640x480 with 1 Axes>"
      ]
     },
     "metadata": {},
     "output_type": "display_data"
    },
    {
     "data": {
      "image/png": "[encoded data removed]",
      "text/plain": [
       "<Figure size 640x480 with 1 Axes>"
      ]
     },
     "metadata": {},
     "output_type": "display_data"
    }
   ],
   "source": [
    "sns.heatmap(hints_base.isnull(), cbar=False)\n",
    "plt.show()\n",
    "\n",
    "sns.heatmap(hints_health.isnull(), cbar=False)\n",
    "plt.show()"
   ]
  },
  {
   "cell_type": "markdown",
   "metadata": {
    "id": "Kx9aDITnR7wO"
   },
   "source": [
    "**Removing the colums with high number of missing values**"
   ]
  },
  {
   "cell_type": "code",
   "execution_count": 30,
   "metadata": {},
   "outputs": [
    {
     "name": "stdout",
     "output_type": "stream",
     "text": [
      "Age                           119\n",
      "BMI                           178\n",
      "CancerAttention_HealthNews    195\n",
      "CancerAttention_Internet      272\n",
      "CancerAttention_LocalTV       210\n",
      "CancerAttention_NatTV         230\n",
      "CancerAttention_OnlineNews    273\n",
      "CancerAttention_PrintNews     250\n",
      "CENSDIV                         0\n",
      "EducA                          89\n",
      "EverHadCancer                  31\n",
      "GenderC                        68\n",
      "HHInc                         480\n",
      "InternetCancerInfoSelf        929\n",
      "InternetCancerInfoSite        950\n",
      "dtype: int64\n",
      "-----------------------------\n",
      "GeneralHealth                   0\n",
      "OwnAbilityTakeCareHealth        0\n",
      "MedConditions_Diabetes          0\n",
      "MedConditions_HighBP            0\n",
      "MedConditions_HeartCondition    0\n",
      "MedConditions_LungDisease       0\n",
      "MedConditions_Arthritis         0\n",
      "MedConditions_Depression        0\n",
      "dtype: int64\n"
     ]
    }
   ],
   "source": [
    "print(hints_base.isna().sum())\n",
    "print(\"-----------------------------\")\n",
    "print(hints_health.isna().sum())"
   ]
  },
  {
   "cell_type": "code",
   "execution_count": 31,
   "metadata": {
    "colab": {
     "base_uri": "https://localhost:8080/"
    },
    "id": "PGfQXM-gQNc7",
    "outputId": "49e6a441-c326-4990-8fec-d68a4ee3d133"
   },
   "outputs": [
    {
     "name": "stdout",
     "output_type": "stream",
     "text": [
      "929\n",
      "950\n"
     ]
    }
   ],
   "source": [
    "print(hints_base.InternetCancerInfoSelf.isna().sum())\n",
    "print(hints_base.InternetCancerInfoSite.isna().sum())\n",
    "# print(hints_base.HHInc.isna().sum())"
   ]
  },
  {
   "cell_type": "code",
   "execution_count": 34,
   "metadata": {
    "id": "TAtseAwQQSI1"
   },
   "outputs": [],
   "source": [
    "hints_base = hints_base.drop(['InternetCancerInfoSelf', 'InternetCancerInfoSite'], axis=1, inplace=False)\n",
    "#investigat whether to drop HHInc"
   ]
  },
  {
   "cell_type": "code",
   "execution_count": 35,
   "metadata": {
    "colab": {
     "base_uri": "https://localhost:8080/"
    },
    "id": "2WhhweUnS7rQ",
    "outputId": "413041e5-8a73-410f-81be-331d057f91b4"
   },
   "outputs": [
    {
     "name": "stdout",
     "output_type": "stream",
     "text": [
      "(3630, 13)\n",
      "(3630, 8)\n"
     ]
    }
   ],
   "source": [
    "print(hints_base.shape)\n",
    "print(hints_health.shape)"
   ]
  },
  {
   "cell_type": "code",
   "execution_count": 36,
   "metadata": {
    "colab": {
     "base_uri": "https://localhost:8080/",
     "height": 638
    },
    "id": "aqr1Bd77TCmP",
    "outputId": "5e171dda-9a87-439a-d0a4-678c4af58bd9"
   },
   "outputs": [
    {
     "data": {
      "image/png": "[encoded data removed]",
      "text/plain": [
       "<Figure size 640x480 with 1 Axes>"
      ]
     },
     "metadata": {},
     "output_type": "display_data"
    }
   ],
   "source": [
    "sns.heatmap(hints_base.isnull(), cbar=False)\n",
    "plt.show()"
   ]
  },
  {
   "cell_type": "code",
   "execution_count": 49,
   "metadata": {
    "id": "ZcW41Y_kTLKp"
   },
   "outputs": [],
   "source": [
    "hints_final = pd.concat([hints_base, hints_health], axis=1)\n"
   ]
  },
  {
   "cell_type": "code",
   "execution_count": 50,
   "metadata": {
    "colab": {
     "base_uri": "https://localhost:8080/"
    },
    "id": "nN0XF0grTVR6",
    "outputId": "69f57a47-5326-461d-ada9-05ee2f4b55a0"
   },
   "outputs": [
    {
     "name": "stdout",
     "output_type": "stream",
     "text": [
      "(3630, 21)\n"
     ]
    },
    {
     "data": {
      "text/html": [
       "<div>\n",
       "<style scoped>\n",
       "    .dataframe tbody tr th:only-of-type {\n",
       "        vertical-align: middle;\n",
       "    }\n",
       "\n",
       "    .dataframe tbody tr th {\n",
       "        vertical-align: top;\n",
       "    }\n",
       "\n",
       "    .dataframe thead th {\n",
       "        text-align: right;\n",
       "    }\n",
       "</style>\n",
       "<table border=\"1\" class=\"dataframe\">\n",
       "  <thead>\n",
       "    <tr style=\"text-align: right;\">\n",
       "      <th></th>\n",
       "      <th>Age</th>\n",
       "      <th>BMI</th>\n",
       "      <th>CancerAttention_HealthNews</th>\n",
       "      <th>CancerAttention_Internet</th>\n",
       "      <th>CancerAttention_LocalTV</th>\n",
       "      <th>CancerAttention_NatTV</th>\n",
       "      <th>CancerAttention_OnlineNews</th>\n",
       "      <th>CancerAttention_PrintNews</th>\n",
       "      <th>CENSDIV</th>\n",
       "      <th>EducA</th>\n",
       "      <th>...</th>\n",
       "      <th>GenderC</th>\n",
       "      <th>HHInc</th>\n",
       "      <th>GeneralHealth</th>\n",
       "      <th>OwnAbilityTakeCareHealth</th>\n",
       "      <th>MedConditions_Diabetes</th>\n",
       "      <th>MedConditions_HighBP</th>\n",
       "      <th>MedConditions_HeartCondition</th>\n",
       "      <th>MedConditions_LungDisease</th>\n",
       "      <th>MedConditions_Arthritis</th>\n",
       "      <th>MedConditions_Depression</th>\n",
       "    </tr>\n",
       "  </thead>\n",
       "  <tbody>\n",
       "    <tr>\n",
       "      <th>0</th>\n",
       "      <td>29.0</td>\n",
       "      <td>29.0</td>\n",
       "      <td>1.0</td>\n",
       "      <td>1.0</td>\n",
       "      <td>3.0</td>\n",
       "      <td>3.0</td>\n",
       "      <td>3.0</td>\n",
       "      <td>3.0</td>\n",
       "      <td>5</td>\n",
       "      <td>3.0</td>\n",
       "      <td>...</td>\n",
       "      <td>2.0</td>\n",
       "      <td>5.0</td>\n",
       "      <td>2</td>\n",
       "      <td>1</td>\n",
       "      <td>2</td>\n",
       "      <td>2</td>\n",
       "      <td>2</td>\n",
       "      <td>2</td>\n",
       "      <td>2</td>\n",
       "      <td>1</td>\n",
       "    </tr>\n",
       "    <tr>\n",
       "      <th>1</th>\n",
       "      <td>69.0</td>\n",
       "      <td>27.0</td>\n",
       "      <td>1.0</td>\n",
       "      <td>2.0</td>\n",
       "      <td>1.0</td>\n",
       "      <td>1.0</td>\n",
       "      <td>3.0</td>\n",
       "      <td>3.0</td>\n",
       "      <td>2</td>\n",
       "      <td>2.0</td>\n",
       "      <td>...</td>\n",
       "      <td>2.0</td>\n",
       "      <td>NaN</td>\n",
       "      <td>2</td>\n",
       "      <td>1</td>\n",
       "      <td>2</td>\n",
       "      <td>1</td>\n",
       "      <td>2</td>\n",
       "      <td>2</td>\n",
       "      <td>1</td>\n",
       "      <td>1</td>\n",
       "    </tr>\n",
       "    <tr>\n",
       "      <th>2</th>\n",
       "      <td>32.0</td>\n",
       "      <td>20.0</td>\n",
       "      <td>2.0</td>\n",
       "      <td>2.0</td>\n",
       "      <td>2.0</td>\n",
       "      <td>2.0</td>\n",
       "      <td>2.0</td>\n",
       "      <td>2.0</td>\n",
       "      <td>3</td>\n",
       "      <td>4.0</td>\n",
       "      <td>...</td>\n",
       "      <td>2.0</td>\n",
       "      <td>5.0</td>\n",
       "      <td>2</td>\n",
       "      <td>2</td>\n",
       "      <td>2</td>\n",
       "      <td>2</td>\n",
       "      <td>2</td>\n",
       "      <td>1</td>\n",
       "      <td>2</td>\n",
       "      <td>2</td>\n",
       "    </tr>\n",
       "    <tr>\n",
       "      <th>3</th>\n",
       "      <td>41.0</td>\n",
       "      <td>22.0</td>\n",
       "      <td>1.0</td>\n",
       "      <td>2.0</td>\n",
       "      <td>3.0</td>\n",
       "      <td>2.0</td>\n",
       "      <td>2.0</td>\n",
       "      <td>2.0</td>\n",
       "      <td>5</td>\n",
       "      <td>4.0</td>\n",
       "      <td>...</td>\n",
       "      <td>2.0</td>\n",
       "      <td>5.0</td>\n",
       "      <td>2</td>\n",
       "      <td>2</td>\n",
       "      <td>2</td>\n",
       "      <td>2</td>\n",
       "      <td>2</td>\n",
       "      <td>2</td>\n",
       "      <td>2</td>\n",
       "      <td>2</td>\n",
       "    </tr>\n",
       "    <tr>\n",
       "      <th>4</th>\n",
       "      <td>46.0</td>\n",
       "      <td>28.0</td>\n",
       "      <td>2.0</td>\n",
       "      <td>2.0</td>\n",
       "      <td>2.0</td>\n",
       "      <td>2.0</td>\n",
       "      <td>2.0</td>\n",
       "      <td>2.0</td>\n",
       "      <td>5</td>\n",
       "      <td>NaN</td>\n",
       "      <td>...</td>\n",
       "      <td>2.0</td>\n",
       "      <td>3.0</td>\n",
       "      <td>3</td>\n",
       "      <td>2</td>\n",
       "      <td>2</td>\n",
       "      <td>1</td>\n",
       "      <td>2</td>\n",
       "      <td>2</td>\n",
       "      <td>2</td>\n",
       "      <td>2</td>\n",
       "    </tr>\n",
       "  </tbody>\n",
       "</table>\n",
       "<p>5 rows × 21 columns</p>\n",
       "</div>"
      ],
      "text/plain": [
       "    Age   BMI  CancerAttention_HealthNews  CancerAttention_Internet  \\\n",
       "0  29.0  29.0                         1.0                       1.0   \n",
       "1  69.0  27.0                         1.0                       2.0   \n",
       "2  32.0  20.0                         2.0                       2.0   \n",
       "3  41.0  22.0                         1.0                       2.0   \n",
       "4  46.0  28.0                         2.0                       2.0   \n",
       "\n",
       "   CancerAttention_LocalTV  CancerAttention_NatTV  CancerAttention_OnlineNews  \\\n",
       "0                      3.0                    3.0                         3.0   \n",
       "1                      1.0                    1.0                         3.0   \n",
       "2                      2.0                    2.0                         2.0   \n",
       "3                      3.0                    2.0                         2.0   \n",
       "4                      2.0                    2.0                         2.0   \n",
       "\n",
       "   CancerAttention_PrintNews  CENSDIV  EducA  ...  GenderC  HHInc  \\\n",
       "0                        3.0        5    3.0  ...      2.0    5.0   \n",
       "1                        3.0        2    2.0  ...      2.0    NaN   \n",
       "2                        2.0        3    4.0  ...      2.0    5.0   \n",
       "3                        2.0        5    4.0  ...      2.0    5.0   \n",
       "4                        2.0        5    NaN  ...      2.0    3.0   \n",
       "\n",
       "   GeneralHealth  OwnAbilityTakeCareHealth  MedConditions_Diabetes  \\\n",
       "0              2                         1                       2   \n",
       "1              2                         1                       2   \n",
       "2              2                         2                       2   \n",
       "3              2                         2                       2   \n",
       "4              3                         2                       2   \n",
       "\n",
       "   MedConditions_HighBP  MedConditions_HeartCondition  \\\n",
       "0                     2                             2   \n",
       "1                     1                             2   \n",
       "2                     2                             2   \n",
       "3                     2                             2   \n",
       "4                     1                             2   \n",
       "\n",
       "   MedConditions_LungDisease  MedConditions_Arthritis  \\\n",
       "0                          2                        2   \n",
       "1                          2                        1   \n",
       "2                          1                        2   \n",
       "3                          2                        2   \n",
       "4                          2                        2   \n",
       "\n",
       "   MedConditions_Depression  \n",
       "0                         1  \n",
       "1                         1  \n",
       "2                         2  \n",
       "3                         2  \n",
       "4                         2  \n",
       "\n",
       "[5 rows x 21 columns]"
      ]
     },
     "execution_count": 50,
     "metadata": {},
     "output_type": "execute_result"
    }
   ],
   "source": [
    "print(hints_final.shape)\n",
    "hints_final.head()"
   ]
  },
  {
   "cell_type": "code",
   "execution_count": 51,
   "metadata": {},
   "outputs": [
    {
     "name": "stdout",
     "output_type": "stream",
     "text": [
      "Columns with missing values: \n",
      " ['Age', 'BMI', 'CancerAttention_HealthNews', 'CancerAttention_Internet', 'CancerAttention_LocalTV', 'CancerAttention_NatTV', 'CancerAttention_OnlineNews', 'CancerAttention_PrintNews', 'EducA', 'EverHadCancer', 'GenderC', 'HHInc']\n"
     ]
    }
   ],
   "source": [
    "def missingValues(missingvalues):\n",
    "    if (missing_values > 0).any():\n",
    "        columns_with_missing_values = missing_values[missing_values > 0].index.tolist()\n",
    "        print(\"Columns with missing values: \\n\", columns_with_missing_values)\n",
    "    else:\n",
    "        print(\"No columns have missing values.\")\n",
    "    return\n",
    "\n",
    "missing_values = hints_final.isna().sum()\n",
    "missingValues(missing_values)\n",
    "\n",
    "# hints_final = hints_final.dropna()\n",
    "# missingValues(hints_final.isna().sum())\n"
   ]
  },
  {
   "cell_type": "code",
   "execution_count": 59,
   "metadata": {},
   "outputs": [
    {
     "name": "stdout",
     "output_type": "stream",
     "text": [
      "(2678, 21)\n",
      "No columns have missing values.\n"
     ]
    }
   ],
   "source": [
    "hints_final = hints_final.dropna()\n",
    "print(hints_final.shape)\n",
    "\n",
    "missing_values = hints_final.isna().sum()\n",
    "missingValues(missing_values)\n"
   ]
  },
  {
   "cell_type": "code",
   "execution_count": 60,
   "metadata": {},
   "outputs": [],
   "source": [
    "hints_final.to_csv(\"final_hints_dataset.csv\")"
   ]
  },
  {
   "cell_type": "markdown",
   "metadata": {},
   "source": [
    "# Feature Ranking Process"
   ]
  },
  {
   "cell_type": "code",
   "execution_count": 107,
   "metadata": {},
   "outputs": [],
   "source": [
    "from sklearn.feature_selection import RFE\n",
    "from sklearn.svm import LinearSVC\n",
    "from sklearn.tree import DecisionTreeClassifier\n",
    "from sklearn.ensemble import RandomForestClassifier\n",
    "from sklearn.pipeline import make_pipeline\n",
    "from sklearn.preprocessing import StandardScaler\n",
    "from sklearn.linear_model import LogisticRegression\n",
    "\n",
    "from sklearn.tree import plot_tree\n"
   ]
  },
  {
   "cell_type": "code",
   "execution_count": 74,
   "metadata": {},
   "outputs": [],
   "source": [
    "#newFeatures = ([\"UseInternet\", \"Internet_DialUp\", \"Internet_BroadBnd\", \"Internet_Cell\", \"Internet_WiFi\", \"Internet_Other\", \"InternetCancerInfoSelf\", \"InternetCancerInfoSite\"])\n",
    "#hints_UIFI_New = hints_UIFI[newFeatures]\n",
    "#hints_UIFI_New\n"
   ]
  },
  {
   "cell_type": "code",
   "execution_count": 88,
   "metadata": {},
   "outputs": [],
   "source": [
    "X,y = hints_final.drop(\"EverHadCancer\", axis=1), hints_final.EverHadCancer"
   ]
  },
  {
   "cell_type": "code",
   "execution_count": 92,
   "metadata": {},
   "outputs": [
    {
     "name": "stdout",
     "output_type": "stream",
     "text": [
      "(2678, 20)\n",
      "(2678,)\n"
     ]
    }
   ],
   "source": [
    "print(X.shape, y.shape, sep='\\n')"
   ]
  },
  {
   "cell_type": "code",
   "execution_count": 120,
   "metadata": {},
   "outputs": [
    {
     "data": {
      "text/plain": [
       "[LinearSVC(C=1000, dual=True, max_iter=100000),\n",
       " DecisionTreeClassifier(max_depth=6, random_state=0),\n",
       " LogisticRegression(max_iter=100000),\n",
       " RandomForestClassifier(n_estimators=5, random_state=0)]"
      ]
     },
     "execution_count": 120,
     "metadata": {},
     "output_type": "execute_result"
    }
   ],
   "source": [
    "random_state_ = 0\n",
    "estimator1 = LinearSVC(C=1000, max_iter=100000, dual=True)\n",
    "estimator2 = DecisionTreeClassifier(max_depth = 6, random_state=random_state_)\n",
    "\n",
    "estimators = [estimator1]\n",
    "estimators.extend([estimator2])\n",
    "\n",
    "estimators.extend([\n",
    "    LogisticRegression(max_iter=100000),\n",
    "    RandomForestClassifier(n_estimators=5, random_state=random_state_)\n",
    "])\n",
    "estimators"
   ]
  },
  {
   "cell_type": "markdown",
   "metadata": {},
   "source": [
    "## Finding top10 Features"
   ]
  },
  {
   "cell_type": "code",
   "execution_count": 121,
   "metadata": {},
   "outputs": [
    {
     "name": "stderr",
     "output_type": "stream",
     "text": [
      "/opt/anaconda3/envs/erdos_may_2024/lib/python3.12/site-packages/sklearn/svm/_base.py:1237: ConvergenceWarning: Liblinear failed to converge, increase the number of iterations.\n",
      "  warnings.warn(\n",
      "/opt/anaconda3/envs/erdos_may_2024/lib/python3.12/site-packages/sklearn/svm/_base.py:1237: ConvergenceWarning: Liblinear failed to converge, increase the number of iterations.\n",
      "  warnings.warn(\n",
      "/opt/anaconda3/envs/erdos_may_2024/lib/python3.12/site-packages/sklearn/svm/_base.py:1237: ConvergenceWarning: Liblinear failed to converge, increase the number of iterations.\n",
      "  warnings.warn(\n",
      "/opt/anaconda3/envs/erdos_may_2024/lib/python3.12/site-packages/sklearn/svm/_base.py:1237: ConvergenceWarning: Liblinear failed to converge, increase the number of iterations.\n",
      "  warnings.warn(\n",
      "/opt/anaconda3/envs/erdos_may_2024/lib/python3.12/site-packages/sklearn/svm/_base.py:1237: ConvergenceWarning: Liblinear failed to converge, increase the number of iterations.\n",
      "  warnings.warn(\n",
      "/opt/anaconda3/envs/erdos_may_2024/lib/python3.12/site-packages/sklearn/svm/_base.py:1237: ConvergenceWarning: Liblinear failed to converge, increase the number of iterations.\n",
      "  warnings.warn(\n",
      "/opt/anaconda3/envs/erdos_may_2024/lib/python3.12/site-packages/sklearn/svm/_base.py:1237: ConvergenceWarning: Liblinear failed to converge, increase the number of iterations.\n",
      "  warnings.warn(\n",
      "/opt/anaconda3/envs/erdos_may_2024/lib/python3.12/site-packages/sklearn/svm/_base.py:1237: ConvergenceWarning: Liblinear failed to converge, increase the number of iterations.\n",
      "  warnings.warn(\n",
      "/opt/anaconda3/envs/erdos_may_2024/lib/python3.12/site-packages/sklearn/svm/_base.py:1237: ConvergenceWarning: Liblinear failed to converge, increase the number of iterations.\n",
      "  warnings.warn(\n",
      "/opt/anaconda3/envs/erdos_may_2024/lib/python3.12/site-packages/sklearn/svm/_base.py:1237: ConvergenceWarning: Liblinear failed to converge, increase the number of iterations.\n",
      "  warnings.warn(\n",
      "/opt/anaconda3/envs/erdos_may_2024/lib/python3.12/site-packages/sklearn/svm/_base.py:1237: ConvergenceWarning: Liblinear failed to converge, increase the number of iterations.\n",
      "  warnings.warn(\n"
     ]
    },
    {
     "name": "stdout",
     "output_type": "stream",
     "text": [
      "accuracy: 0.8793876026885735\n",
      "accuracy: 0.8965646004480956\n",
      "accuracy: 0.880134428678118\n",
      "accuracy: 0.9757281553398058\n"
     ]
    }
   ],
   "source": [
    "# finding top10 Features\n",
    "selectors = []\n",
    "selected_features = []\n",
    "for estimator in estimators:\n",
    "    # Apply RFE to the LinearSVC model\n",
    "    selector = RFE(estimator=estimator, n_features_to_select=10, step=1)\n",
    "    \n",
    "    # Create a pipeline with StandardScaler and RFE selector\n",
    "    pipeline = make_pipeline(StandardScaler(), selector)\n",
    "    \n",
    "    # Fit the pipeline to the training data\n",
    "    pipeline.fit(X, y)\n",
    "    # Evaluate the model\n",
    "    \n",
    "    print(\"accuracy:\", pipeline.score(X, y))\n",
    "    \n",
    "    # Append the fitted selector to the list\n",
    "    selectors.append(selector)\n",
    "    # Get the selected features and store them\n",
    "    selected_features.append(X.columns[selector.support_])\n",
    "\n"
   ]
  },
  {
   "cell_type": "code",
   "execution_count": 124,
   "metadata": {},
   "outputs": [
    {
     "name": "stdout",
     "output_type": "stream",
     "text": [
      "Estimator 1: LinearSVC(C=1000, dual=True, max_iter=100000)\n",
      "Feature ranking: [ 1  1 11  1  1  1  4  3  9  1  8  7  1  6  1  2  1  1 10  5]\n",
      "Index(['Age', 'BMI', 'CancerAttention_Internet', 'CancerAttention_LocalTV',\n",
      "       'CancerAttention_NatTV', 'EducA', 'GeneralHealth',\n",
      "       'MedConditions_Diabetes', 'MedConditions_HeartCondition',\n",
      "       'MedConditions_LungDisease'],\n",
      "      dtype='object')\n",
      "Age\n",
      "MedConditions_LungDisease\n",
      "MedConditions_HeartCondition\n",
      "MedConditions_Diabetes\n",
      "GeneralHealth\n",
      "EducA\n",
      "CancerAttention_LocalTV\n",
      "CancerAttention_Internet\n",
      "BMI\n",
      "CancerAttention_NatTV\n",
      "MedConditions_HighBP\n",
      "CancerAttention_PrintNews\n",
      "CancerAttention_OnlineNews\n",
      "MedConditions_Depression\n",
      "OwnAbilityTakeCareHealth\n",
      "HHInc\n",
      "GenderC\n",
      "CENSDIV\n",
      "MedConditions_Arthritis\n",
      "CancerAttention_HealthNews\n",
      "\n",
      "Estimator 2: DecisionTreeClassifier(max_depth=6, random_state=0)\n",
      "Feature ranking: [ 1  1  1 11  7  8  1  4  1  1 10  1  1  1  9  5  1  2  3  6]\n",
      "Index(['Age', 'BMI', 'CancerAttention_HealthNews',\n",
      "       'CancerAttention_OnlineNews', 'CENSDIV', 'EducA', 'HHInc',\n",
      "       'GeneralHealth', 'OwnAbilityTakeCareHealth',\n",
      "       'MedConditions_HeartCondition'],\n",
      "      dtype='object')\n",
      "Age\n",
      "MedConditions_HeartCondition\n",
      "OwnAbilityTakeCareHealth\n",
      "GeneralHealth\n",
      "HHInc\n",
      "CENSDIV\n",
      "EducA\n",
      "CancerAttention_HealthNews\n",
      "BMI\n",
      "CancerAttention_OnlineNews\n",
      "MedConditions_LungDisease\n",
      "MedConditions_Arthritis\n",
      "CancerAttention_PrintNews\n",
      "MedConditions_HighBP\n",
      "MedConditions_Depression\n",
      "CancerAttention_LocalTV\n",
      "CancerAttention_NatTV\n",
      "MedConditions_Diabetes\n",
      "GenderC\n",
      "CancerAttention_Internet\n",
      "\n",
      "Estimator 3: LogisticRegression(max_iter=100000)\n",
      "Feature ranking: [ 1  1  9  1  1  1  3  2  8  1 11  1  1  6  1  4 10  7  5  1]\n",
      "Index(['Age', 'BMI', 'CancerAttention_Internet', 'CancerAttention_LocalTV',\n",
      "       'CancerAttention_NatTV', 'EducA', 'HHInc', 'GeneralHealth',\n",
      "       'MedConditions_Diabetes', 'MedConditions_Depression'],\n",
      "      dtype='object')\n",
      "Age\n",
      "MedConditions_Diabetes\n",
      "GeneralHealth\n",
      "HHInc\n",
      "CancerAttention_NatTV\n",
      "EducA\n",
      "CancerAttention_Internet\n",
      "BMI\n",
      "CancerAttention_LocalTV\n",
      "MedConditions_Depression\n",
      "CancerAttention_PrintNews\n",
      "CancerAttention_OnlineNews\n",
      "MedConditions_HighBP\n",
      "MedConditions_Arthritis\n",
      "OwnAbilityTakeCareHealth\n",
      "MedConditions_LungDisease\n",
      "CENSDIV\n",
      "CancerAttention_HealthNews\n",
      "MedConditions_HeartCondition\n",
      "GenderC\n",
      "\n",
      "Estimator 4: RandomForestClassifier(n_estimators=5, random_state=0)\n",
      "Feature ranking: [ 1  1  1  4  3  1  2  1  1  1  7  1  1  1 11  6  8  9 10  5]\n",
      "Index(['Age', 'BMI', 'CancerAttention_HealthNews', 'CancerAttention_NatTV',\n",
      "       'CancerAttention_PrintNews', 'CENSDIV', 'EducA', 'HHInc',\n",
      "       'GeneralHealth', 'OwnAbilityTakeCareHealth'],\n",
      "      dtype='object')\n",
      "Age\n",
      "OwnAbilityTakeCareHealth\n",
      "GeneralHealth\n",
      "HHInc\n",
      "CENSDIV\n",
      "CancerAttention_PrintNews\n",
      "EducA\n",
      "CancerAttention_NatTV\n",
      "CancerAttention_HealthNews\n",
      "BMI\n",
      "CancerAttention_OnlineNews\n",
      "CancerAttention_LocalTV\n",
      "CancerAttention_Internet\n",
      "MedConditions_Depression\n",
      "MedConditions_HighBP\n",
      "GenderC\n",
      "MedConditions_HeartCondition\n",
      "MedConditions_LungDisease\n",
      "MedConditions_Arthritis\n",
      "MedConditions_Diabetes\n",
      "\n"
     ]
    }
   ],
   "source": [
    "# Display results for each selector\n",
    "for idx, selector in enumerate(selectors):\n",
    "    print(f\"Estimator {idx+1}: {estimators[idx]}\")\n",
    "    feature_ranking =  selector.ranking_\n",
    "    # print(\"Selected features:\", selector.support_)\n",
    "    print(\"Feature ranking:\", feature_ranking)\n",
    "    print(X.columns[selector.support_])\n",
    "    # Get the indices of the sorted features\n",
    "    sorted_indices = np.argsort(feature_ranking)\n",
    "    # Print column names based on sorted indices\n",
    "    for idx in sorted_indices:\n",
    "        print(X.columns[idx])\n",
    "    print(\"\")\n",
    "\n",
    "\n",
    "\n",
    "\n",
    "# # Plotting decision trees for each estimator\n",
    "# for idx, estimator in enumerate(estimators):\n",
    "#     # Assuming estimator is a DecisionTreeClassifier\n",
    "#     plt.figure(figsize=(10, 10))  # Adjust the figure size as needed\n",
    "#     plot_tree(estimator, filled=True, feature_names=selected_features[idx], class_names=True)\n",
    "#     plt.show()"
   ]
  },
  {
   "cell_type": "code",
   "execution_count": 125,
   "metadata": {},
   "outputs": [
    {
     "name": "stderr",
     "output_type": "stream",
     "text": [
      "/opt/anaconda3/envs/erdos_may_2024/lib/python3.12/site-packages/sklearn/svm/_base.py:1237: ConvergenceWarning: Liblinear failed to converge, increase the number of iterations.\n",
      "  warnings.warn(\n",
      "/opt/anaconda3/envs/erdos_may_2024/lib/python3.12/site-packages/sklearn/svm/_base.py:1237: ConvergenceWarning: Liblinear failed to converge, increase the number of iterations.\n",
      "  warnings.warn(\n",
      "/opt/anaconda3/envs/erdos_may_2024/lib/python3.12/site-packages/sklearn/svm/_base.py:1237: ConvergenceWarning: Liblinear failed to converge, increase the number of iterations.\n",
      "  warnings.warn(\n",
      "/opt/anaconda3/envs/erdos_may_2024/lib/python3.12/site-packages/sklearn/svm/_base.py:1237: ConvergenceWarning: Liblinear failed to converge, increase the number of iterations.\n",
      "  warnings.warn(\n",
      "/opt/anaconda3/envs/erdos_may_2024/lib/python3.12/site-packages/sklearn/svm/_base.py:1237: ConvergenceWarning: Liblinear failed to converge, increase the number of iterations.\n",
      "  warnings.warn(\n",
      "/opt/anaconda3/envs/erdos_may_2024/lib/python3.12/site-packages/sklearn/svm/_base.py:1237: ConvergenceWarning: Liblinear failed to converge, increase the number of iterations.\n",
      "  warnings.warn(\n",
      "/opt/anaconda3/envs/erdos_may_2024/lib/python3.12/site-packages/sklearn/svm/_base.py:1237: ConvergenceWarning: Liblinear failed to converge, increase the number of iterations.\n",
      "  warnings.warn(\n",
      "/opt/anaconda3/envs/erdos_may_2024/lib/python3.12/site-packages/sklearn/svm/_base.py:1237: ConvergenceWarning: Liblinear failed to converge, increase the number of iterations.\n",
      "  warnings.warn(\n",
      "/opt/anaconda3/envs/erdos_may_2024/lib/python3.12/site-packages/sklearn/svm/_base.py:1237: ConvergenceWarning: Liblinear failed to converge, increase the number of iterations.\n",
      "  warnings.warn(\n",
      "/opt/anaconda3/envs/erdos_may_2024/lib/python3.12/site-packages/sklearn/svm/_base.py:1237: ConvergenceWarning: Liblinear failed to converge, increase the number of iterations.\n",
      "  warnings.warn(\n",
      "/opt/anaconda3/envs/erdos_may_2024/lib/python3.12/site-packages/sklearn/svm/_base.py:1237: ConvergenceWarning: Liblinear failed to converge, increase the number of iterations.\n",
      "  warnings.warn(\n",
      "/opt/anaconda3/envs/erdos_may_2024/lib/python3.12/site-packages/sklearn/svm/_base.py:1237: ConvergenceWarning: Liblinear failed to converge, increase the number of iterations.\n",
      "  warnings.warn(\n",
      "/opt/anaconda3/envs/erdos_may_2024/lib/python3.12/site-packages/sklearn/svm/_base.py:1237: ConvergenceWarning: Liblinear failed to converge, increase the number of iterations.\n",
      "  warnings.warn(\n",
      "/opt/anaconda3/envs/erdos_may_2024/lib/python3.12/site-packages/sklearn/svm/_base.py:1237: ConvergenceWarning: Liblinear failed to converge, increase the number of iterations.\n",
      "  warnings.warn(\n",
      "/opt/anaconda3/envs/erdos_may_2024/lib/python3.12/site-packages/sklearn/svm/_base.py:1237: ConvergenceWarning: Liblinear failed to converge, increase the number of iterations.\n",
      "  warnings.warn(\n",
      "/opt/anaconda3/envs/erdos_may_2024/lib/python3.12/site-packages/sklearn/svm/_base.py:1237: ConvergenceWarning: Liblinear failed to converge, increase the number of iterations.\n",
      "  warnings.warn(\n",
      "/opt/anaconda3/envs/erdos_may_2024/lib/python3.12/site-packages/sklearn/svm/_base.py:1237: ConvergenceWarning: Liblinear failed to converge, increase the number of iterations.\n",
      "  warnings.warn(\n",
      "/opt/anaconda3/envs/erdos_may_2024/lib/python3.12/site-packages/sklearn/svm/_base.py:1237: ConvergenceWarning: Liblinear failed to converge, increase the number of iterations.\n",
      "  warnings.warn(\n",
      "/opt/anaconda3/envs/erdos_may_2024/lib/python3.12/site-packages/sklearn/svm/_base.py:1237: ConvergenceWarning: Liblinear failed to converge, increase the number of iterations.\n",
      "  warnings.warn(\n",
      "/opt/anaconda3/envs/erdos_may_2024/lib/python3.12/site-packages/sklearn/svm/_base.py:1237: ConvergenceWarning: Liblinear failed to converge, increase the number of iterations.\n",
      "  warnings.warn(\n"
     ]
    },
    {
     "name": "stdout",
     "output_type": "stream",
     "text": [
      "accuracy: 0.8793876026885735\n",
      "accuracy: 0.8797610156833457\n",
      "accuracy: 0.878267363704257\n",
      "accuracy: 0.8790141896938013\n",
      "Estimator 1: LinearSVC(C=1000, dual=True, max_iter=100000)\n",
      "Feature ranking: [ 1  4 20  5  6  8 16 13 19  9 17  7  3 18 10 11  2 15 14 12]\n",
      "Index(['Age'], dtype='object')\n",
      "Age\n",
      "MedConditions_HeartCondition\n",
      "GeneralHealth\n",
      "BMI\n",
      "CancerAttention_Internet\n",
      "CancerAttention_LocalTV\n",
      "HHInc\n",
      "CancerAttention_NatTV\n",
      "EducA\n",
      "MedConditions_Diabetes\n",
      "MedConditions_HighBP\n",
      "MedConditions_Depression\n",
      "CancerAttention_PrintNews\n",
      "MedConditions_Arthritis\n",
      "MedConditions_LungDisease\n",
      "CancerAttention_OnlineNews\n",
      "GenderC\n",
      "OwnAbilityTakeCareHealth\n",
      "CENSDIV\n",
      "CancerAttention_HealthNews\n",
      "\n",
      "Estimator 2: DecisionTreeClassifier(max_depth=6, random_state=0)\n",
      "Feature ranking: [ 1  2  5 20 16 17  9 13  3  7 19  4 10  6 18 14  8 11 12 15]\n",
      "Index(['Age'], dtype='object')\n",
      "Age\n",
      "BMI\n",
      "CENSDIV\n",
      "HHInc\n",
      "CancerAttention_HealthNews\n",
      "OwnAbilityTakeCareHealth\n",
      "EducA\n",
      "MedConditions_HeartCondition\n",
      "CancerAttention_OnlineNews\n",
      "GeneralHealth\n",
      "MedConditions_LungDisease\n",
      "MedConditions_Arthritis\n",
      "CancerAttention_PrintNews\n",
      "MedConditions_HighBP\n",
      "MedConditions_Depression\n",
      "CancerAttention_LocalTV\n",
      "CancerAttention_NatTV\n",
      "MedConditions_Diabetes\n",
      "GenderC\n",
      "CancerAttention_Internet\n",
      "\n",
      "Estimator 3: LogisticRegression(max_iter=100000)\n",
      "Feature ranking: [ 1  4 18  5  6  8 12 11 17 10 20  3  2 15  7 13 19 16 14  9]\n",
      "Index(['Age'], dtype='object')\n",
      "Age\n",
      "GeneralHealth\n",
      "HHInc\n",
      "BMI\n",
      "CancerAttention_Internet\n",
      "CancerAttention_LocalTV\n",
      "MedConditions_Diabetes\n",
      "CancerAttention_NatTV\n",
      "MedConditions_Depression\n",
      "EducA\n",
      "CancerAttention_PrintNews\n",
      "CancerAttention_OnlineNews\n",
      "MedConditions_HighBP\n",
      "MedConditions_Arthritis\n",
      "OwnAbilityTakeCareHealth\n",
      "MedConditions_LungDisease\n",
      "CENSDIV\n",
      "CancerAttention_HealthNews\n",
      "MedConditions_HeartCondition\n",
      "GenderC\n",
      "\n",
      "Estimator 4: RandomForestClassifier(n_estimators=5, random_state=0)\n",
      "Feature ranking: [ 1  2  5 13 12  9 11  8  3 10 16  4  6  7 20 15 17 18 19 14]\n",
      "Index(['Age'], dtype='object')\n",
      "Age\n",
      "BMI\n",
      "CENSDIV\n",
      "HHInc\n",
      "CancerAttention_HealthNews\n",
      "GeneralHealth\n",
      "OwnAbilityTakeCareHealth\n",
      "CancerAttention_PrintNews\n",
      "CancerAttention_NatTV\n",
      "EducA\n",
      "CancerAttention_OnlineNews\n",
      "CancerAttention_LocalTV\n",
      "CancerAttention_Internet\n",
      "MedConditions_Depression\n",
      "MedConditions_HighBP\n",
      "GenderC\n",
      "MedConditions_HeartCondition\n",
      "MedConditions_LungDisease\n",
      "MedConditions_Arthritis\n",
      "MedConditions_Diabetes\n",
      "\n"
     ]
    }
   ],
   "source": [
    "# finding top10 Features\n",
    "selectors = []\n",
    "selected_features = []\n",
    "for estimator in estimators:\n",
    "    # Apply RFE to the LinearSVC model\n",
    "    selector = RFE(estimator=estimator, n_features_to_select=1, step=1)\n",
    "    \n",
    "    # Create a pipeline with StandardScaler and RFE selector\n",
    "    pipeline = make_pipeline(StandardScaler(), selector)\n",
    "    \n",
    "    # Fit the pipeline to the training data\n",
    "    pipeline.fit(X, y)\n",
    "    # Evaluate the model\n",
    "    \n",
    "    print(\"accuracy:\", pipeline.score(X, y))\n",
    "    \n",
    "    # Append the fitted selector to the list\n",
    "    selectors.append(selector)\n",
    "    # Get the selected features and store them\n",
    "    selected_features.append(X.columns[selector.support_])\n",
    "\n",
    "\n",
    "\n",
    "# Display results for each selector\n",
    "for idx, selector in enumerate(selectors):\n",
    "    print(f\"Estimator {idx+1}: {estimators[idx]}\")\n",
    "    feature_ranking =  selector.ranking_\n",
    "    # print(\"Selected features:\", selector.support_)\n",
    "    print(\"Feature ranking:\", feature_ranking)\n",
    "    print(X.columns[selector.support_])\n",
    "    # Get the indices of the sorted features\n",
    "    sorted_indices = np.argsort(feature_ranking)\n",
    "    # Print column names based on sorted indices\n",
    "    for idx in sorted_indices:\n",
    "        print(X.columns[idx])\n",
    "    print(\"\")\n"
   ]
  },
  {
   "cell_type": "code",
   "execution_count": 29,
   "metadata": {},
   "outputs": [],
   "source": [
    "#ct = pd.crosstab(hints_YOH['Internet_DialUp'], hints_YOH['EverHadCancer'], normalize='index')\n",
    "#print(ct)"
   ]
  },
  {
   "cell_type": "markdown",
   "metadata": {},
   "source": [
    "## Fitting a classifier on top 10 features\n",
    "\n",
    "### Addressing UnbalancedNess"
   ]
  },
  {
   "cell_type": "code",
   "execution_count": 30,
   "metadata": {},
   "outputs": [],
   "source": [
    "from sklearn.model_selection import train_test_split"
   ]
  },
  {
   "cell_type": "code",
   "execution_count": 130,
   "metadata": {},
   "outputs": [
    {
     "name": "stdout",
     "output_type": "stream",
     "text": [
      "       Age\n",
      "0     29.0\n",
      "2     32.0\n",
      "3     41.0\n",
      "5     33.0\n",
      "8     52.0\n",
      "...    ...\n",
      "3623  41.0\n",
      "3625  89.0\n",
      "3627  44.0\n",
      "3628  29.0\n",
      "3629  40.0\n",
      "\n",
      "[2678 rows x 1 columns] 0       2.0\n",
      "2       2.0\n",
      "3       2.0\n",
      "5       2.0\n",
      "8       2.0\n",
      "       ... \n",
      "3623    2.0\n",
      "3625    1.0\n",
      "3627    2.0\n",
      "3628    2.0\n",
      "3629    2.0\n",
      "Name: EverHadCancer, Length: 2678, dtype: float64\n"
     ]
    }
   ],
   "source": [
    "## tentative approach -- just place holder \n",
    "selected_features = X.columns[selector.support_]\n",
    "new_X, new_Y = X[selected_features], y\n",
    "print(new_X, new_Y)\n",
    "X_train, X_test, y_train, y_test = train_test_split(new_X, new_Y,\n",
    "                                            shuffle=True,\n",
    "                                            random_state=random_state_,\n",
    "                                            stratify=y)"
   ]
  },
  {
   "cell_type": "code",
   "execution_count": 133,
   "metadata": {},
   "outputs": [
    {
     "data": {
      "text/plain": [
       "1766"
      ]
     },
     "execution_count": 133,
     "metadata": {},
     "output_type": "execute_result"
    }
   ],
   "source": [
    "### Class balancing\n",
    "class_count_0, class_count_1 = y_train.value_counts()"
   ]
  },
  {
   "cell_type": "code",
   "execution_count": 136,
   "metadata": {},
   "outputs": [
    {
     "name": "stdout",
     "output_type": "stream",
     "text": [
      "class 0: (1766,)\n",
      "class 1: (242,)\n"
     ]
    }
   ],
   "source": [
    "class_0 = y_train[y_train == 2]\n",
    "class_1 = y_train[y_train == 1]\n",
    "print('class 0:', class_0.shape)\n",
    "print('class 1:', class_1.shape)"
   ]
  },
  {
   "cell_type": "code",
   "execution_count": 137,
   "metadata": {},
   "outputs": [
    {
     "data": {
      "text/plain": [
       "(484,)"
      ]
     },
     "execution_count": 137,
     "metadata": {},
     "output_type": "execute_result"
    }
   ],
   "source": [
    "class_0_under = class_0.sample(class_count_1)\n",
    "balanced = pd.concat([class_0_under, class_1], axis=0)\n",
    "balanced.shape"
   ]
  },
  {
   "cell_type": "code",
   "execution_count": 138,
   "metadata": {},
   "outputs": [
    {
     "data": {
      "text/plain": [
       "EverHadCancer\n",
       "2.0    242\n",
       "1.0    242\n",
       "Name: count, dtype: int64"
      ]
     },
     "execution_count": 138,
     "metadata": {},
     "output_type": "execute_result"
    }
   ],
   "source": [
    "balanced.value_counts()"
   ]
  },
  {
   "cell_type": "markdown",
   "metadata": {},
   "source": [
    "## Decide on Classifier"
   ]
  },
  {
   "cell_type": "code",
   "execution_count": 39,
   "metadata": {},
   "outputs": [],
   "source": [
    "from sklearn.neighbors import KNeighborsClassifier\n",
    "from sklearn.pipeline import Pipeline\n",
    "from sklearn.preprocessing import StandardScaler"
   ]
  },
  {
   "cell_type": "code",
   "execution_count": 40,
   "metadata": {},
   "outputs": [],
   "source": [
    "## import here\n",
    "from sklearn.model_selection import StratifiedKFold"
   ]
  },
  {
   "cell_type": "code",
   "execution_count": 41,
   "metadata": {},
   "outputs": [],
   "source": [
    "## make the kfold object\n",
    "kfold = StratifiedKFold(n_splits=5,\n",
    "                           shuffle=True,\n",
    "                           random_state=111)"
   ]
  },
  {
   "cell_type": "code",
   "execution_count": 42,
   "metadata": {},
   "outputs": [
    {
     "name": "stdout",
     "output_type": "stream",
     "text": [
      "Split 1\n",
      "CV Training Set Split\n",
      "EverHadCancer\n",
      "2.0    0.5\n",
      "1.0    0.5\n",
      "Name: proportion, dtype: float64\n",
      "\n",
      "CV Holdout Set Split\n",
      "EverHadCancer\n",
      "2.0    0.5\n",
      "1.0    0.5\n",
      "Name: proportion, dtype: float64\n",
      "+++++++++++++++ 1\n",
      "Split 2\n",
      "CV Training Set Split\n",
      "EverHadCancer\n",
      "2.0    0.5\n",
      "1.0    0.5\n",
      "Name: proportion, dtype: float64\n",
      "\n",
      "CV Holdout Set Split\n",
      "EverHadCancer\n",
      "2.0    0.5\n",
      "1.0    0.5\n",
      "Name: proportion, dtype: float64\n",
      "+++++++++++++++ 2\n",
      "Split 3\n",
      "CV Training Set Split\n",
      "EverHadCancer\n",
      "2.0    0.5\n",
      "1.0    0.5\n",
      "Name: proportion, dtype: float64\n",
      "\n",
      "CV Holdout Set Split\n",
      "EverHadCancer\n",
      "2.0    0.5\n",
      "1.0    0.5\n",
      "Name: proportion, dtype: float64\n",
      "+++++++++++++++ 3\n",
      "Split 4\n",
      "CV Training Set Split\n",
      "EverHadCancer\n",
      "2.0    0.5\n",
      "1.0    0.5\n",
      "Name: proportion, dtype: float64\n",
      "\n",
      "CV Holdout Set Split\n",
      "EverHadCancer\n",
      "2.0    0.5\n",
      "1.0    0.5\n",
      "Name: proportion, dtype: float64\n",
      "+++++++++++++++ 4\n",
      "Split 5\n",
      "CV Training Set Split\n",
      "EverHadCancer\n",
      "2.0    0.5\n",
      "1.0    0.5\n",
      "Name: proportion, dtype: float64\n",
      "\n",
      "CV Holdout Set Split\n",
      "EverHadCancer\n",
      "2.0    0.5\n",
      "1.0    0.5\n",
      "Name: proportion, dtype: float64\n",
      "+++++++++++++++ 5\n"
     ]
    }
   ],
   "source": [
    "## loop through train sets and test sets\n",
    "i = 1\n",
    "for train_index, test_index in kfold.split(balanced[selected_features], balanced['EverHadCancer']):\n",
    "    ## print the beer type splits\n",
    "    print(\"Split\",i)\n",
    "    print(\"CV Training Set Split\")\n",
    "    print(balanced.iloc[train_index].EverHadCancer.value_counts(normalize=True))\n",
    "    \n",
    "    print()\n",
    "    \n",
    "    print(\"CV Holdout Set Split\")\n",
    "    print(balanced.iloc[test_index].EverHadCancer.value_counts(normalize=True))\n",
    "    \n",
    "    print(\"+++++++++++++++\",i)\n",
    "    i = i + 1"
   ]
  },
  {
   "cell_type": "code",
   "execution_count": 43,
   "metadata": {},
   "outputs": [
    {
     "data": {
      "text/html": [
       "<style>#sk-container-id-1 {\n",
       "  /* Definition of color scheme common for light and dark mode */\n",
       "  --sklearn-color-text: black;\n",
       "  --sklearn-color-line: gray;\n",
       "  /* Definition of color scheme for unfitted estimators */\n",
       "  --sklearn-color-unfitted-level-0: #fff5e6;\n",
       "  --sklearn-color-unfitted-level-1: #f6e4d2;\n",
       "  --sklearn-color-unfitted-level-2: #ffe0b3;\n",
       "  --sklearn-color-unfitted-level-3: chocolate;\n",
       "  /* Definition of color scheme for fitted estimators */\n",
       "  --sklearn-color-fitted-level-0: #f0f8ff;\n",
       "  --sklearn-color-fitted-level-1: #d4ebff;\n",
       "  --sklearn-color-fitted-level-2: #b3dbfd;\n",
       "  --sklearn-color-fitted-level-3: cornflowerblue;\n",
       "\n",
       "  /* Specific color for light theme */\n",
       "  --sklearn-color-text-on-default-background: var(--sg-text-color, var(--theme-code-foreground, var(--jp-content-font-color1, black)));\n",
       "  --sklearn-color-background: var(--sg-background-color, var(--theme-background, var(--jp-layout-color0, white)));\n",
       "  --sklearn-color-border-box: var(--sg-text-color, var(--theme-code-foreground, var(--jp-content-font-color1, black)));\n",
       "  --sklearn-color-icon: #696969;\n",
       "\n",
       "  @media (prefers-color-scheme: dark) {\n",
       "    /* Redefinition of color scheme for dark theme */\n",
       "    --sklearn-color-text-on-default-background: var(--sg-text-color, var(--theme-code-foreground, var(--jp-content-font-color1, white)));\n",
       "    --sklearn-color-background: var(--sg-background-color, var(--theme-background, var(--jp-layout-color0, #111)));\n",
       "    --sklearn-color-border-box: var(--sg-text-color, var(--theme-code-foreground, var(--jp-content-font-color1, white)));\n",
       "    --sklearn-color-icon: #878787;\n",
       "  }\n",
       "}\n",
       "\n",
       "#sk-container-id-1 {\n",
       "  color: var(--sklearn-color-text);\n",
       "}\n",
       "\n",
       "#sk-container-id-1 pre {\n",
       "  padding: 0;\n",
       "}\n",
       "\n",
       "#sk-container-id-1 input.sk-hidden--visually {\n",
       "  border: 0;\n",
       "  clip: rect(1px 1px 1px 1px);\n",
       "  clip: rect(1px, 1px, 1px, 1px);\n",
       "  height: 1px;\n",
       "  margin: -1px;\n",
       "  overflow: hidden;\n",
       "  padding: 0;\n",
       "  position: absolute;\n",
       "  width: 1px;\n",
       "}\n",
       "\n",
       "#sk-container-id-1 div.sk-dashed-wrapped {\n",
       "  border: 1px dashed var(--sklearn-color-line);\n",
       "  margin: 0 0.4em 0.5em 0.4em;\n",
       "  box-sizing: border-box;\n",
       "  padding-bottom: 0.4em;\n",
       "  background-color: var(--sklearn-color-background);\n",
       "}\n",
       "\n",
       "#sk-container-id-1 div.sk-container {\n",
       "  /* jupyter's `normalize.less` sets `[hidden] { display: none; }`\n",
       "     but bootstrap.min.css set `[hidden] { display: none !important; }`\n",
       "     so we also need the `!important` here to be able to override the\n",
       "     default hidden behavior on the sphinx rendered scikit-learn.org.\n",
       "     See: https://github.com/scikit-learn/scikit-learn/issues/21755 */\n",
       "  display: inline-block !important;\n",
       "  position: relative;\n",
       "}\n",
       "\n",
       "#sk-container-id-1 div.sk-text-repr-fallback {\n",
       "  display: none;\n",
       "}\n",
       "\n",
       "div.sk-parallel-item,\n",
       "div.sk-serial,\n",
       "div.sk-item {\n",
       "  /* draw centered vertical line to link estimators */\n",
       "  background-image: linear-gradient(var(--sklearn-color-text-on-default-background), var(--sklearn-color-text-on-default-background));\n",
       "  background-size: 2px 100%;\n",
       "  background-repeat: no-repeat;\n",
       "  background-position: center center;\n",
       "}\n",
       "\n",
       "/* Parallel-specific style estimator block */\n",
       "\n",
       "#sk-container-id-1 div.sk-parallel-item::after {\n",
       "  content: \"\";\n",
       "  width: 100%;\n",
       "  border-bottom: 2px solid var(--sklearn-color-text-on-default-background);\n",
       "  flex-grow: 1;\n",
       "}\n",
       "\n",
       "#sk-container-id-1 div.sk-parallel {\n",
       "  display: flex;\n",
       "  align-items: stretch;\n",
       "  justify-content: center;\n",
       "  background-color: var(--sklearn-color-background);\n",
       "  position: relative;\n",
       "}\n",
       "\n",
       "#sk-container-id-1 div.sk-parallel-item {\n",
       "  display: flex;\n",
       "  flex-direction: column;\n",
       "}\n",
       "\n",
       "#sk-container-id-1 div.sk-parallel-item:first-child::after {\n",
       "  align-self: flex-end;\n",
       "  width: 50%;\n",
       "}\n",
       "\n",
       "#sk-container-id-1 div.sk-parallel-item:last-child::after {\n",
       "  align-self: flex-start;\n",
       "  width: 50%;\n",
       "}\n",
       "\n",
       "#sk-container-id-1 div.sk-parallel-item:only-child::after {\n",
       "  width: 0;\n",
       "}\n",
       "\n",
       "/* Serial-specific style estimator block */\n",
       "\n",
       "#sk-container-id-1 div.sk-serial {\n",
       "  display: flex;\n",
       "  flex-direction: column;\n",
       "  align-items: center;\n",
       "  background-color: var(--sklearn-color-background);\n",
       "  padding-right: 1em;\n",
       "  padding-left: 1em;\n",
       "}\n",
       "\n",
       "\n",
       "/* Toggleable style: style used for estimator/Pipeline/ColumnTransformer box that is\n",
       "clickable and can be expanded/collapsed.\n",
       "- Pipeline and ColumnTransformer use this feature and define the default style\n",
       "- Estimators will overwrite some part of the style using the `sk-estimator` class\n",
       "*/\n",
       "\n",
       "/* Pipeline and ColumnTransformer style (default) */\n",
       "\n",
       "#sk-container-id-1 div.sk-toggleable {\n",
       "  /* Default theme specific background. It is overwritten whether we have a\n",
       "  specific estimator or a Pipeline/ColumnTransformer */\n",
       "  background-color: var(--sklearn-color-background);\n",
       "}\n",
       "\n",
       "/* Toggleable label */\n",
       "#sk-container-id-1 label.sk-toggleable__label {\n",
       "  cursor: pointer;\n",
       "  display: block;\n",
       "  width: 100%;\n",
       "  margin-bottom: 0;\n",
       "  padding: 0.5em;\n",
       "  box-sizing: border-box;\n",
       "  text-align: center;\n",
       "}\n",
       "\n",
       "#sk-container-id-1 label.sk-toggleable__label-arrow:before {\n",
       "  /* Arrow on the left of the label */\n",
       "  content: \"▸\";\n",
       "  float: left;\n",
       "  margin-right: 0.25em;\n",
       "  color: var(--sklearn-color-icon);\n",
       "}\n",
       "\n",
       "#sk-container-id-1 label.sk-toggleable__label-arrow:hover:before {\n",
       "  color: var(--sklearn-color-text);\n",
       "}\n",
       "\n",
       "/* Toggleable content - dropdown */\n",
       "\n",
       "#sk-container-id-1 div.sk-toggleable__content {\n",
       "  max-height: 0;\n",
       "  max-width: 0;\n",
       "  overflow: hidden;\n",
       "  text-align: left;\n",
       "  /* unfitted */\n",
       "  background-color: var(--sklearn-color-unfitted-level-0);\n",
       "}\n",
       "\n",
       "#sk-container-id-1 div.sk-toggleable__content.fitted {\n",
       "  /* fitted */\n",
       "  background-color: var(--sklearn-color-fitted-level-0);\n",
       "}\n",
       "\n",
       "#sk-container-id-1 div.sk-toggleable__content pre {\n",
       "  margin: 0.2em;\n",
       "  border-radius: 0.25em;\n",
       "  color: var(--sklearn-color-text);\n",
       "  /* unfitted */\n",
       "  background-color: var(--sklearn-color-unfitted-level-0);\n",
       "}\n",
       "\n",
       "#sk-container-id-1 div.sk-toggleable__content.fitted pre {\n",
       "  /* unfitted */\n",
       "  background-color: var(--sklearn-color-fitted-level-0);\n",
       "}\n",
       "\n",
       "#sk-container-id-1 input.sk-toggleable__control:checked~div.sk-toggleable__content {\n",
       "  /* Expand drop-down */\n",
       "  max-height: 200px;\n",
       "  max-width: 100%;\n",
       "  overflow: auto;\n",
       "}\n",
       "\n",
       "#sk-container-id-1 input.sk-toggleable__control:checked~label.sk-toggleable__label-arrow:before {\n",
       "  content: \"▾\";\n",
       "}\n",
       "\n",
       "/* Pipeline/ColumnTransformer-specific style */\n",
       "\n",
       "#sk-container-id-1 div.sk-label input.sk-toggleable__control:checked~label.sk-toggleable__label {\n",
       "  color: var(--sklearn-color-text);\n",
       "  background-color: var(--sklearn-color-unfitted-level-2);\n",
       "}\n",
       "\n",
       "#sk-container-id-1 div.sk-label.fitted input.sk-toggleable__control:checked~label.sk-toggleable__label {\n",
       "  background-color: var(--sklearn-color-fitted-level-2);\n",
       "}\n",
       "\n",
       "/* Estimator-specific style */\n",
       "\n",
       "/* Colorize estimator box */\n",
       "#sk-container-id-1 div.sk-estimator input.sk-toggleable__control:checked~label.sk-toggleable__label {\n",
       "  /* unfitted */\n",
       "  background-color: var(--sklearn-color-unfitted-level-2);\n",
       "}\n",
       "\n",
       "#sk-container-id-1 div.sk-estimator.fitted input.sk-toggleable__control:checked~label.sk-toggleable__label {\n",
       "  /* fitted */\n",
       "  background-color: var(--sklearn-color-fitted-level-2);\n",
       "}\n",
       "\n",
       "#sk-container-id-1 div.sk-label label.sk-toggleable__label,\n",
       "#sk-container-id-1 div.sk-label label {\n",
       "  /* The background is the default theme color */\n",
       "  color: var(--sklearn-color-text-on-default-background);\n",
       "}\n",
       "\n",
       "/* On hover, darken the color of the background */\n",
       "#sk-container-id-1 div.sk-label:hover label.sk-toggleable__label {\n",
       "  color: var(--sklearn-color-text);\n",
       "  background-color: var(--sklearn-color-unfitted-level-2);\n",
       "}\n",
       "\n",
       "/* Label box, darken color on hover, fitted */\n",
       "#sk-container-id-1 div.sk-label.fitted:hover label.sk-toggleable__label.fitted {\n",
       "  color: var(--sklearn-color-text);\n",
       "  background-color: var(--sklearn-color-fitted-level-2);\n",
       "}\n",
       "\n",
       "/* Estimator label */\n",
       "\n",
       "#sk-container-id-1 div.sk-label label {\n",
       "  font-family: monospace;\n",
       "  font-weight: bold;\n",
       "  display: inline-block;\n",
       "  line-height: 1.2em;\n",
       "}\n",
       "\n",
       "#sk-container-id-1 div.sk-label-container {\n",
       "  text-align: center;\n",
       "}\n",
       "\n",
       "/* Estimator-specific */\n",
       "#sk-container-id-1 div.sk-estimator {\n",
       "  font-family: monospace;\n",
       "  border: 1px dotted var(--sklearn-color-border-box);\n",
       "  border-radius: 0.25em;\n",
       "  box-sizing: border-box;\n",
       "  margin-bottom: 0.5em;\n",
       "  /* unfitted */\n",
       "  background-color: var(--sklearn-color-unfitted-level-0);\n",
       "}\n",
       "\n",
       "#sk-container-id-1 div.sk-estimator.fitted {\n",
       "  /* fitted */\n",
       "  background-color: var(--sklearn-color-fitted-level-0);\n",
       "}\n",
       "\n",
       "/* on hover */\n",
       "#sk-container-id-1 div.sk-estimator:hover {\n",
       "  /* unfitted */\n",
       "  background-color: var(--sklearn-color-unfitted-level-2);\n",
       "}\n",
       "\n",
       "#sk-container-id-1 div.sk-estimator.fitted:hover {\n",
       "  /* fitted */\n",
       "  background-color: var(--sklearn-color-fitted-level-2);\n",
       "}\n",
       "\n",
       "/* Specification for estimator info (e.g. \"i\" and \"?\") */\n",
       "\n",
       "/* Common style for \"i\" and \"?\" */\n",
       "\n",
       ".sk-estimator-doc-link,\n",
       "a:link.sk-estimator-doc-link,\n",
       "a:visited.sk-estimator-doc-link {\n",
       "  float: right;\n",
       "  font-size: smaller;\n",
       "  line-height: 1em;\n",
       "  font-family: monospace;\n",
       "  background-color: var(--sklearn-color-background);\n",
       "  border-radius: 1em;\n",
       "  height: 1em;\n",
       "  width: 1em;\n",
       "  text-decoration: none !important;\n",
       "  margin-left: 1ex;\n",
       "  /* unfitted */\n",
       "  border: var(--sklearn-color-unfitted-level-1) 1pt solid;\n",
       "  color: var(--sklearn-color-unfitted-level-1);\n",
       "}\n",
       "\n",
       ".sk-estimator-doc-link.fitted,\n",
       "a:link.sk-estimator-doc-link.fitted,\n",
       "a:visited.sk-estimator-doc-link.fitted {\n",
       "  /* fitted */\n",
       "  border: var(--sklearn-color-fitted-level-1) 1pt solid;\n",
       "  color: var(--sklearn-color-fitted-level-1);\n",
       "}\n",
       "\n",
       "/* On hover */\n",
       "div.sk-estimator:hover .sk-estimator-doc-link:hover,\n",
       ".sk-estimator-doc-link:hover,\n",
       "div.sk-label-container:hover .sk-estimator-doc-link:hover,\n",
       ".sk-estimator-doc-link:hover {\n",
       "  /* unfitted */\n",
       "  background-color: var(--sklearn-color-unfitted-level-3);\n",
       "  color: var(--sklearn-color-background);\n",
       "  text-decoration: none;\n",
       "}\n",
       "\n",
       "div.sk-estimator.fitted:hover .sk-estimator-doc-link.fitted:hover,\n",
       ".sk-estimator-doc-link.fitted:hover,\n",
       "div.sk-label-container:hover .sk-estimator-doc-link.fitted:hover,\n",
       ".sk-estimator-doc-link.fitted:hover {\n",
       "  /* fitted */\n",
       "  background-color: var(--sklearn-color-fitted-level-3);\n",
       "  color: var(--sklearn-color-background);\n",
       "  text-decoration: none;\n",
       "}\n",
       "\n",
       "/* Span, style for the box shown on hovering the info icon */\n",
       ".sk-estimator-doc-link span {\n",
       "  display: none;\n",
       "  z-index: 9999;\n",
       "  position: relative;\n",
       "  font-weight: normal;\n",
       "  right: .2ex;\n",
       "  padding: .5ex;\n",
       "  margin: .5ex;\n",
       "  width: min-content;\n",
       "  min-width: 20ex;\n",
       "  max-width: 50ex;\n",
       "  color: var(--sklearn-color-text);\n",
       "  box-shadow: 2pt 2pt 4pt #999;\n",
       "  /* unfitted */\n",
       "  background: var(--sklearn-color-unfitted-level-0);\n",
       "  border: .5pt solid var(--sklearn-color-unfitted-level-3);\n",
       "}\n",
       "\n",
       ".sk-estimator-doc-link.fitted span {\n",
       "  /* fitted */\n",
       "  background: var(--sklearn-color-fitted-level-0);\n",
       "  border: var(--sklearn-color-fitted-level-3);\n",
       "}\n",
       "\n",
       ".sk-estimator-doc-link:hover span {\n",
       "  display: block;\n",
       "}\n",
       "\n",
       "/* \"?\"-specific style due to the `<a>` HTML tag */\n",
       "\n",
       "#sk-container-id-1 a.estimator_doc_link {\n",
       "  float: right;\n",
       "  font-size: 1rem;\n",
       "  line-height: 1em;\n",
       "  font-family: monospace;\n",
       "  background-color: var(--sklearn-color-background);\n",
       "  border-radius: 1rem;\n",
       "  height: 1rem;\n",
       "  width: 1rem;\n",
       "  text-decoration: none;\n",
       "  /* unfitted */\n",
       "  color: var(--sklearn-color-unfitted-level-1);\n",
       "  border: var(--sklearn-color-unfitted-level-1) 1pt solid;\n",
       "}\n",
       "\n",
       "#sk-container-id-1 a.estimator_doc_link.fitted {\n",
       "  /* fitted */\n",
       "  border: var(--sklearn-color-fitted-level-1) 1pt solid;\n",
       "  color: var(--sklearn-color-fitted-level-1);\n",
       "}\n",
       "\n",
       "/* On hover */\n",
       "#sk-container-id-1 a.estimator_doc_link:hover {\n",
       "  /* unfitted */\n",
       "  background-color: var(--sklearn-color-unfitted-level-3);\n",
       "  color: var(--sklearn-color-background);\n",
       "  text-decoration: none;\n",
       "}\n",
       "\n",
       "#sk-container-id-1 a.estimator_doc_link.fitted:hover {\n",
       "  /* fitted */\n",
       "  background-color: var(--sklearn-color-fitted-level-3);\n",
       "}\n",
       "</style><div id=\"sk-container-id-1\" class=\"sk-top-container\"><div class=\"sk-text-repr-fallback\"><pre>Pipeline(steps=[(&#x27;scale&#x27;, StandardScaler()), (&#x27;knn&#x27;, KNeighborsClassifier())])</pre><b>In a Jupyter environment, please rerun this cell to show the HTML representation or trust the notebook. <br />On GitHub, the HTML representation is unable to render, please try loading this page with nbviewer.org.</b></div><div class=\"sk-container\" hidden><div class=\"sk-item sk-dashed-wrapped\"><div class=\"sk-label-container\"><div class=\"sk-label fitted sk-toggleable\"><input class=\"sk-toggleable__control sk-hidden--visually\" id=\"sk-estimator-id-1\" type=\"checkbox\" ><label for=\"sk-estimator-id-1\" class=\"sk-toggleable__label fitted sk-toggleable__label-arrow fitted\">&nbsp;&nbsp;Pipeline<a class=\"sk-estimator-doc-link fitted\" rel=\"noreferrer\" target=\"_blank\" href=\"https://scikit-learn.org/1.4/modules/generated/sklearn.pipeline.Pipeline.html\">?<span>Documentation for Pipeline</span></a><span class=\"sk-estimator-doc-link fitted\">i<span>Fitted</span></span></label><div class=\"sk-toggleable__content fitted\"><pre>Pipeline(steps=[(&#x27;scale&#x27;, StandardScaler()), (&#x27;knn&#x27;, KNeighborsClassifier())])</pre></div> </div></div><div class=\"sk-serial\"><div class=\"sk-item\"><div class=\"sk-estimator fitted sk-toggleable\"><input class=\"sk-toggleable__control sk-hidden--visually\" id=\"sk-estimator-id-2\" type=\"checkbox\" ><label for=\"sk-estimator-id-2\" class=\"sk-toggleable__label fitted sk-toggleable__label-arrow fitted\">&nbsp;StandardScaler<a class=\"sk-estimator-doc-link fitted\" rel=\"noreferrer\" target=\"_blank\" href=\"https://scikit-learn.org/1.4/modules/generated/sklearn.preprocessing.StandardScaler.html\">?<span>Documentation for StandardScaler</span></a></label><div class=\"sk-toggleable__content fitted\"><pre>StandardScaler()</pre></div> </div></div><div class=\"sk-item\"><div class=\"sk-estimator fitted sk-toggleable\"><input class=\"sk-toggleable__control sk-hidden--visually\" id=\"sk-estimator-id-3\" type=\"checkbox\" ><label for=\"sk-estimator-id-3\" class=\"sk-toggleable__label fitted sk-toggleable__label-arrow fitted\">&nbsp;KNeighborsClassifier<a class=\"sk-estimator-doc-link fitted\" rel=\"noreferrer\" target=\"_blank\" href=\"https://scikit-learn.org/1.4/modules/generated/sklearn.neighbors.KNeighborsClassifier.html\">?<span>Documentation for KNeighborsClassifier</span></a></label><div class=\"sk-toggleable__content fitted\"><pre>KNeighborsClassifier()</pre></div> </div></div></div></div></div></div>"
      ],
      "text/plain": [
       "Pipeline(steps=[('scale', StandardScaler()), ('knn', KNeighborsClassifier())])"
      ]
     },
     "execution_count": 43,
     "metadata": {},
     "output_type": "execute_result"
    }
   ],
   "source": [
    "knn_pipe = Pipeline([('scale', StandardScaler()),('knn', KNeighborsClassifier(5))])\n",
    "knn_pipe.fit(train, train.EverHadCancer)"
   ]
  },
  {
   "cell_type": "code",
   "execution_count": 44,
   "metadata": {},
   "outputs": [
    {
     "name": "stdout",
     "output_type": "stream",
     "text": [
      "Split 1\n",
      "CV Training Set Split\n",
      "CV Holdout Set Split\n",
      "Test Split Accuracy: 0.6090909090909091\n",
      "+++++++++++++++ 1\n",
      "Split 2\n",
      "CV Training Set Split\n",
      "CV Holdout Set Split\n",
      "Test Split Accuracy: 0.6181818181818182\n",
      "+++++++++++++++ 2\n",
      "Split 3\n",
      "CV Training Set Split\n",
      "CV Holdout Set Split\n",
      "Test Split Accuracy: 0.4818181818181818\n",
      "+++++++++++++++ 3\n",
      "Split 4\n",
      "CV Training Set Split\n",
      "CV Holdout Set Split\n",
      "Test Split Accuracy: 0.5545454545454546\n",
      "+++++++++++++++ 4\n",
      "Split 5\n",
      "CV Training Set Split\n",
      "CV Holdout Set Split\n",
      "Test Split Accuracy: 0.5636363636363636\n",
      "+++++++++++++++ 5\n"
     ]
    }
   ],
   "source": [
    "def accuracy(true, predicted):\n",
    "    return np.sum(true==predicted)/len(predicted)\n",
    "\n",
    "i = 1\n",
    "for train_index, test_index in kfold.split(balanced[selected_features], balanced['EverHadCancer']):\n",
    "    ## print the beer type splits\n",
    "    print(\"Split\",i)\n",
    "    print(\"CV Training Set Split\")\n",
    "    #print(balanced.iloc[train_index].EverHadCancer.value_counts(normalize=True))\n",
    "    #print(\"Shape: \", balanced.iloc[train_index].shape)\n",
    "    knn_pipe.fit(balanced.iloc[train_index,range(1, 10)],\n",
    "           balanced.iloc[train_index].EverHadCancer)\n",
    "    \n",
    "    print(\"CV Holdout Set Split\")\n",
    "    #print(balanced.iloc[test_index].EverHadCancer.value_counts(normalize=True))\n",
    "    knn_pipe.predict(balanced.iloc[test_index,range(1, 10)])\n",
    "    pred = knn_pipe.predict(balanced.iloc[test_index,range(1, 10)])\n",
    "    \n",
    "    \n",
    "    print(\"Test Split Accuracy:\", accuracy(balanced.iloc[test_index].EverHadCancer.values, pred))\n",
    "    print(\"+++++++++++++++\",i)\n",
    "    i = i + 1"
   ]
  },
  {
   "cell_type": "code",
   "execution_count": 45,
   "metadata": {},
   "outputs": [
    {
     "name": "stdout",
     "output_type": "stream",
     "text": [
      "Test set Accuracy: 0.6853625170998632\n"
     ]
    }
   ],
   "source": [
    "pred = knn_pipe.predict(test.iloc[:,range(1, 10)])\n",
    "print(\"Test set Accuracy:\", accuracy(test.EverHadCancer.values, pred))"
   ]
  },
  {
   "cell_type": "code",
   "execution_count": null,
   "metadata": {},
   "outputs": [],
   "source": []
  },
  {
   "cell_type": "code",
   "execution_count": null,
   "metadata": {},
   "outputs": [],
   "source": []
  }
 ],
 "metadata": {
  "colab": {
   "provenance": []
  },
  "kernelspec": {
   "display_name": "Python 3 (ipykernel)",
   "language": "python",
   "name": "python3"
  },
  "language_info": {
   "codemirror_mode": {
    "name": "ipython",
    "version": 3
   },
   "file_extension": ".py",
   "mimetype": "text/x-python",
   "name": "python",
   "nbconvert_exporter": "python",
   "pygments_lexer": "ipython3",
   "version": "3.12.3"
  }
 },
 "nbformat": 4,
 "nbformat_minor": 4
}
